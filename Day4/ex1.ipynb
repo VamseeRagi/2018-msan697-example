{
 "cells": [
  {
   "cell_type": "markdown",
   "metadata": {},
   "source": [
    "https://machinelearningmastery.com/simple-linear-regression-tutorial-for-machine-learning/ <br>\n",
    "https://machinelearningmastery.com/implement-simple-linear-regression-scratch-python/"
   ]
  },
  {
   "cell_type": "code",
   "execution_count": 1,
   "metadata": {
    "collapsed": true
   },
   "outputs": [],
   "source": [
    "from pyspark import SparkContext\n",
    "from pyspark.sql.types import *\n",
    "from pyspark.sql import Row\n",
    "from pyspark.sql.functions import *\n",
    "import math\n",
    "sc = SparkContext.getOrCreate()\n",
    "sqlContext = SQLContext(sc)"
   ]
  },
  {
   "cell_type": "code",
   "execution_count": 2,
   "metadata": {
    "collapsed": false
   },
   "outputs": [
    {
     "data": {
      "text/plain": [
       "DataFrame[]"
      ]
     },
     "execution_count": 2,
     "metadata": {},
     "output_type": "execute_result"
    }
   ],
   "source": [
    "sqlContext.sql(\"DROP TABLE IF EXISTS test\") #delete test table, if exsists."
   ]
  },
  {
   "cell_type": "code",
   "execution_count": 3,
   "metadata": {
    "collapsed": true
   },
   "outputs": [],
   "source": [
    "irisSchema = StructType([StructField(\"sepal_length\", DoubleType(), True), \n",
    "                         StructField(\"sepal_width\", DoubleType(), True),\n",
    "                         StructField(\"petal_length\", DoubleType(), True), \n",
    "                         StructField(\"petal_width\", DoubleType(), True),\n",
    "                         StructField(\"class\", StringType(), True)])"
   ]
  },
  {
   "cell_type": "code",
   "execution_count": 4,
   "metadata": {
    "collapsed": false
   },
   "outputs": [],
   "source": [
    "iris = sqlContext.read \\\n",
    "    .format('com.databricks.spark.csv') \\\n",
    "    .options(header='false') \\\n",
    "    .load('../Data/iris.csv', schema = irisSchema)"
   ]
  },
  {
   "cell_type": "code",
   "execution_count": 5,
   "metadata": {
    "collapsed": false
   },
   "outputs": [],
   "source": [
    "iris = iris.select('sepal_length','petal_length')"
   ]
  },
  {
   "cell_type": "code",
   "execution_count": 6,
   "metadata": {
    "collapsed": false
   },
   "outputs": [
    {
     "name": "stdout",
     "output_type": "stream",
     "text": [
      "+------------+------------+\n",
      "|sepal_length|petal_length|\n",
      "+------------+------------+\n",
      "|         5.1|         1.4|\n",
      "|         4.9|         1.4|\n",
      "|         4.7|         1.3|\n",
      "|         4.6|         1.5|\n",
      "|         5.0|         1.4|\n",
      "|         5.4|         1.7|\n",
      "|         4.6|         1.4|\n",
      "|         5.0|         1.5|\n",
      "|         4.4|         1.4|\n",
      "|         4.9|         1.5|\n",
      "|         5.4|         1.5|\n",
      "|         4.8|         1.6|\n",
      "|         4.8|         1.4|\n",
      "|         4.3|         1.1|\n",
      "|         5.8|         1.2|\n",
      "|         5.7|         1.5|\n",
      "|         5.4|         1.3|\n",
      "|         5.1|         1.4|\n",
      "|         5.7|         1.7|\n",
      "|         5.1|         1.5|\n",
      "+------------+------------+\n",
      "only showing top 20 rows\n",
      "\n"
     ]
    }
   ],
   "source": [
    "iris.show()"
   ]
  },
  {
   "cell_type": "code",
   "execution_count": 52,
   "metadata": {
    "collapsed": false
   },
   "outputs": [],
   "source": [
    "#Split training and test set.\n",
    "train, test = iris.randomSplit([0.9, 0.1])\n",
    "train.cache()\n",
    "test.write.saveAsTable(\"test\")"
   ]
  },
  {
   "cell_type": "code",
   "execution_count": 54,
   "metadata": {
    "collapsed": false
   },
   "outputs": [
    {
     "data": {
      "text/plain": [
       "1.3008872549019572"
      ]
     },
     "execution_count": 54,
     "metadata": {},
     "output_type": "execute_result"
    }
   ],
   "source": [
    "# calculate covariance.\n",
    "covariance = train.cov(\"sepal_length\",\"petal_length\")\n",
    "covariance"
   ]
  },
  {
   "cell_type": "code",
   "execution_count": 55,
   "metadata": {
    "collapsed": false
   },
   "outputs": [
    {
     "data": {
      "text/plain": [
       "0.6969144880174262"
      ]
     },
     "execution_count": 55,
     "metadata": {},
     "output_type": "execute_result"
    }
   ],
   "source": [
    "# calculate variance.\n",
    "variance = train.select(variance(\"sepal_length\")).first()[0]\n",
    "variance"
   ]
  },
  {
   "cell_type": "code",
   "execution_count": 58,
   "metadata": {
    "collapsed": true
   },
   "outputs": [],
   "source": [
    "# Estimate coefficients\n",
    "# where petal_length = coeff_0 * sepal_length + coeff_1"
   ]
  },
  {
   "cell_type": "code",
   "execution_count": 59,
   "metadata": {
    "collapsed": false
   },
   "outputs": [],
   "source": [
    "#coeff_0 = covariance(x,y)/variance(x)\n",
    "coeff_0 = covariance/variance"
   ]
  },
  {
   "cell_type": "code",
   "execution_count": 60,
   "metadata": {
    "collapsed": true
   },
   "outputs": [],
   "source": [
    "#coeff_1 = mean(y) – coeff_0 * mean(x)\n",
    "coeff_1 =  train.select(mean(\"petal_length\")).first()[0] - coeff_0 * train.select(mean(\"sepal_length\")).first()[0]"
   ]
  },
  {
   "cell_type": "code",
   "execution_count": 68,
   "metadata": {
    "collapsed": false
   },
   "outputs": [],
   "source": [
    "test_output = sqlContext.sql(\"SELECT sepal_length, petal_length, sepal_length * {0} + {1} AS prediction FROM test\".format(coeff_0, coeff_1))"
   ]
  },
  {
   "cell_type": "code",
   "execution_count": 90,
   "metadata": {
    "collapsed": false
   },
   "outputs": [
    {
     "name": "stdout",
     "output_type": "stream",
     "text": [
      "+------------+------------+------------------+\n",
      "|sepal_length|petal_length|        prediction|\n",
      "+------------+------------+------------------+\n",
      "|         4.8|         1.4|1.8021366355539996|\n",
      "|         5.2|         1.5|    2.548791943926|\n",
      "|         5.2|         3.9|    2.548791943926|\n",
      "|         5.6|         4.2|3.2954472522979987|\n",
      "|         5.9|         4.2|3.8554387335769995|\n",
      "|         6.0|         4.0| 4.042102560669999|\n",
      "|         6.3|         5.1|    4.602094041949|\n",
      "|         6.3|         5.6|    4.602094041949|\n",
      "|         6.4|         5.6|    4.788757869042|\n",
      "|         6.5|         4.6| 4.975421696134999|\n",
      "|         6.7|         4.4|    5.348749350321|\n",
      "|         6.7|         5.2|    5.348749350321|\n",
      "|         6.8|         5.5|    5.535413177414|\n",
      "|         7.4|         6.1|    6.655396139972|\n",
      "+------------+------------+------------------+\n",
      "\n"
     ]
    }
   ],
   "source": [
    "test_output.show()"
   ]
  },
  {
   "cell_type": "code",
   "execution_count": 88,
   "metadata": {
    "collapsed": false
   },
   "outputs": [],
   "source": [
    "# rmse (root mean squre error) : https://en.wikipedia.org/wiki/Root-mean-square_deviation\n",
    "rmse = math.sqrt(test_output.rdd.map(lambda x : (x[\"prediction\"] - x[\"petal_length\"])**2)\\\n",
    "                      .reduce(lambda x,y : x + y)/test_output.count())"
   ]
  },
  {
   "cell_type": "code",
   "execution_count": 89,
   "metadata": {
    "collapsed": false
   },
   "outputs": [
    {
     "data": {
      "text/plain": [
       "0.722144867982061"
      ]
     },
     "execution_count": 89,
     "metadata": {},
     "output_type": "execute_result"
    }
   ],
   "source": [
    "rmse"
   ]
  },
  {
   "cell_type": "code",
   "execution_count": null,
   "metadata": {
    "collapsed": true
   },
   "outputs": [],
   "source": []
  }
 ],
 "metadata": {
  "anaconda-cloud": {},
  "kernelspec": {
   "display_name": "Python [Root]",
   "language": "python",
   "name": "Python [Root]"
  },
  "language_info": {
   "codemirror_mode": {
    "name": "ipython",
    "version": 2
   },
   "file_extension": ".py",
   "mimetype": "text/x-python",
   "name": "python",
   "nbconvert_exporter": "python",
   "pygments_lexer": "ipython2",
   "version": "2.7.12"
  }
 },
 "nbformat": 4,
 "nbformat_minor": 2
}
