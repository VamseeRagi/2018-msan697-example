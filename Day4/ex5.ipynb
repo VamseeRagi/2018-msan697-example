{
 "cells": [
  {
   "cell_type": "code",
   "execution_count": 1,
   "metadata": {
    "collapsed": true
   },
   "outputs": [],
   "source": [
    "from pyspark import SparkContext\n",
    "from pyspark.sql.types import *\n",
    "sc = SparkContext.getOrCreate()\n",
    "sqlContext = SQLContext(sc)"
   ]
  },
  {
   "cell_type": "code",
   "execution_count": 2,
   "metadata": {
    "collapsed": true
   },
   "outputs": [],
   "source": [
    "#https://spark.apache.org/docs/latest/api/python/pyspark.ml.html?highlight=kmeans#pyspark.ml.clustering.KMeans"
   ]
  },
  {
   "cell_type": "code",
   "execution_count": 3,
   "metadata": {
    "collapsed": false
   },
   "outputs": [],
   "source": [
    "#Load the data and create an RDD (16 pixels and label)\n",
    "pen_raw = sc.textFile(\"../Data/penbased.dat\", 4).map(lambda x:  x.split(\", \")).map(lambda row: [float(x) for x in row])"
   ]
  },
  {
   "cell_type": "code",
   "execution_count": 4,
   "metadata": {
    "collapsed": false
   },
   "outputs": [],
   "source": [
    "#Create a DataFrame\n",
    "from pyspark.sql.types import *\n",
    "from pyspark.sql import Row\n",
    "penschema = StructType([\n",
    "    StructField(\"pix1\",DoubleType(),True),\n",
    "    StructField(\"pix2\",DoubleType(),True),\n",
    "    StructField(\"pix3\",DoubleType(),True),\n",
    "    StructField(\"pix4\",DoubleType(),True),\n",
    "    StructField(\"pix5\",DoubleType(),True),\n",
    "    StructField(\"pix6\",DoubleType(),True),\n",
    "    StructField(\"pix7\",DoubleType(),True),\n",
    "    StructField(\"pix8\",DoubleType(),True),\n",
    "    StructField(\"pix9\",DoubleType(),True),\n",
    "    StructField(\"pix10\",DoubleType(),True),\n",
    "    StructField(\"pix11\",DoubleType(),True),\n",
    "    StructField(\"pix12\",DoubleType(),True),\n",
    "    StructField(\"pix13\",DoubleType(),True),\n",
    "    StructField(\"pix14\",DoubleType(),True),\n",
    "    StructField(\"pix15\",DoubleType(),True),\n",
    "    StructField(\"pix16\",DoubleType(),True),\n",
    "    StructField(\"label\",DoubleType(),True)\n",
    "])\n",
    "\n",
    "dfpen = sqlContext.createDataFrame(pen_raw.map(lambda x : Row(x[0],x[1],x[2],x[3],x[4],x[5],x[6],x[7],x[8],x[9],x[10],x[11],x[12],x[13],x[14],x[15],x[16])), penschema)"
   ]
  },
  {
   "cell_type": "code",
   "execution_count": 27,
   "metadata": {
    "collapsed": false
   },
   "outputs": [],
   "source": [
    "# Merging the data with Vector Assembler.\n",
    "from pyspark.ml.feature import VectorAssembler\n",
    "va = VectorAssembler(outputCol=\"features\", inputCols=dfpen.columns[0:-1]) #except the last col.\n",
    "penlpoints = va.transform(dfpen)"
   ]
  },
  {
   "cell_type": "code",
   "execution_count": 28,
   "metadata": {
    "collapsed": false
   },
   "outputs": [],
   "source": [
    "from pyspark.ml.clustering import KMeans\n",
    "kmeans =  KMeans(k = 10, maxIter = 200, tol = 0.1) # k = 10 as there are 10 different handwritten numbers.\n",
    "model = kmeans.fit(penlpoints)"
   ]
  },
  {
   "cell_type": "code",
   "execution_count": 18,
   "metadata": {
    "collapsed": false
   },
   "outputs": [
    {
     "name": "stdout",
     "output_type": "stream",
     "text": [
      "Within Set Sum of Squared Errors = 46160858.0701\n"
     ]
    }
   ],
   "source": [
    "# Evaluate clustering by computing Within Set Sum of Squared Errors\n",
    "wssse = model.computeCost(penlpoints) \n",
    "print(\"Within Set Sum of Squared Errors = \" + str(wssse))"
   ]
  },
  {
   "cell_type": "code",
   "execution_count": 23,
   "metadata": {
    "collapsed": false
   },
   "outputs": [
    {
     "name": "stdout",
     "output_type": "stream",
     "text": [
      "Average distance from the center = 68.2427139368\n"
     ]
    }
   ],
   "source": [
    "# Average distance from the center (max = 100)\n",
    "import math\n",
    "print(\"Average distance from the center = \" + str(math.sqrt(wssse/pen_raw.count())))"
   ]
  },
  {
   "cell_type": "code",
   "execution_count": 8,
   "metadata": {
    "collapsed": false
   },
   "outputs": [
    {
     "name": "stdout",
     "output_type": "stream",
     "text": [
      "Cluster Centers: \n",
      "[ 88.00580833  97.78993224  52.64762827  87.28848015  21.28944821\n",
      "  59.95062924   7.01548887  28.31945789  32.33881897   4.47918683\n",
      "  79.51016457  11.47821878  62.06582769  30.81219748  13.39303001\n",
      "  24.91674734]\n",
      "[ 27.44980443  83.71968709  63.03259452  94.55997392  85.55280313\n",
      "  87.22946545  55.13233377  65.58148631  69.64602347  45.38787484\n",
      "  87.32920469  22.85397653  52.22946545   7.26597132   4.30247718\n",
      "   9.58083442]\n",
      "[ 44.53996448  98.30195382  13.6660746   77.04795737   5.36234458\n",
      "  49.47424512  69.21669627  47.98401421  96.60923623  65.72824156\n",
      "  77.97513321  67.89698046  62.92717584  34.38543517  50.60035524\n",
      "   0.34280639]\n",
      "[ 87.46744186  87.90813953  58.16046512  92.40232558  35.72325581\n",
      "  79.76046512  56.75813953  74.44883721  80.47674419  63.75232558\n",
      "  81.59302326  32.18372093  48.70232558   7.74534884   4.32906977\n",
      "   3.93604651]\n",
      "[  3.26024096  60.78554217  30.41204819  72.74578313  72.10240964\n",
      "  89.77951807  91.46746988  94.43493976  79.77228916  73.85903614\n",
      "  69.60722892  49.85060241  55.97951807  24.31686747  52.31807229\n",
      "   1.16144578]\n",
      "[ 45.21103448  90.45241379  27.53103448  70.06758621  34.72827586\n",
      "  30.40551724  30.07586207   2.06896552  44.6         19.50068966\n",
      "  82.79586207  54.64413793  88.59448276  90.56        30.06896552\n",
      "  90.87034483]\n",
      "[ 23.18625954  80.37709924   7.22442748  45.55114504  23.38625954\n",
      "   7.47328244  67.64122137   7.7389313   96.64274809  43.31145038\n",
      "  86.6610687   84.45038168  43.34198473  95.18167939  10.09618321\n",
      "  67.68854962]\n",
      "[ 47.26326964  88.45753715  22.80573248  74.29936306  47.39278132\n",
      "  47.57112527  53.2611465   12.64012739  22.07855626  11.37473461\n",
      "   8.75265393  48.75902335  44.92781316  80.33757962  93.09660297\n",
      "  93.83545648]\n",
      "[ 14.86147578  80.4612947   47.54006338  97.77953825  70.76007243\n",
      "  81.20507017  56.43775464  45.73381621  34.24988683  14.10683567\n",
      "  15.57175192   9.61204165  43.81394296  16.99230421  96.01856043\n",
      "  19.20325939]\n",
      "[  4.56149733e+01   9.67629234e+01   3.17219251e+01   8.18983957e+01\n",
      "   5.67379679e+00   5.69465241e+01   1.74367201e+01   3.96880570e+01\n",
      "   7.26042781e+01   3.98734403e+01   9.48431373e+01   5.19197861e+01\n",
      "   8.23725490e+01   2.88092692e+01   7.67664884e+01   7.13012478e-02]\n"
     ]
    }
   ],
   "source": [
    "# Shows the result.\n",
    "centers = model.clusterCenters()\n",
    "print(\"Cluster Centers: \")\n",
    "for center in centers:\n",
    "    print(center)"
   ]
  },
  {
   "cell_type": "code",
   "execution_count": 34,
   "metadata": {
    "collapsed": false
   },
   "outputs": [
    {
     "data": {
      "text/plain": [
       "defaultdict(int,\n",
       "            {Row(label=0.0, prediction=0): 31,\n",
       "             Row(label=0.0, prediction=2): 12,\n",
       "             Row(label=0.0, prediction=3): 1,\n",
       "             Row(label=0.0, prediction=4): 2,\n",
       "             Row(label=0.0, prediction=5): 352,\n",
       "             Row(label=0.0, prediction=6): 630,\n",
       "             Row(label=0.0, prediction=8): 6,\n",
       "             Row(label=0.0, prediction=9): 3,\n",
       "             Row(label=1.0, prediction=0): 7,\n",
       "             Row(label=1.0, prediction=1): 70,\n",
       "             Row(label=1.0, prediction=3): 66,\n",
       "             Row(label=1.0, prediction=4): 573,\n",
       "             Row(label=1.0, prediction=8): 304,\n",
       "             Row(label=1.0, prediction=9): 2,\n",
       "             Row(label=2.0, prediction=4): 16,\n",
       "             Row(label=2.0, prediction=8): 1006,\n",
       "             Row(label=3.0, prediction=1): 919,\n",
       "             Row(label=3.0, prediction=3): 2,\n",
       "             Row(label=3.0, prediction=4): 19,\n",
       "             Row(label=3.0, prediction=8): 1,\n",
       "             Row(label=3.0, prediction=9): 1,\n",
       "             Row(label=4.0, prediction=0): 13,\n",
       "             Row(label=4.0, prediction=2): 497,\n",
       "             Row(label=4.0, prediction=3): 14,\n",
       "             Row(label=4.0, prediction=4): 2,\n",
       "             Row(label=4.0, prediction=9): 501,\n",
       "             Row(label=5.0, prediction=0): 6,\n",
       "             Row(label=5.0, prediction=1): 210,\n",
       "             Row(label=5.0, prediction=3): 176,\n",
       "             Row(label=5.0, prediction=7): 558,\n",
       "             Row(label=6.0, prediction=0): 963,\n",
       "             Row(label=6.0, prediction=7): 1,\n",
       "             Row(label=6.0, prediction=9): 5,\n",
       "             Row(label=7.0, prediction=0): 1,\n",
       "             Row(label=7.0, prediction=1): 71,\n",
       "             Row(label=7.0, prediction=2): 5,\n",
       "             Row(label=7.0, prediction=4): 144,\n",
       "             Row(label=7.0, prediction=7): 9,\n",
       "             Row(label=7.0, prediction=8): 799,\n",
       "             Row(label=8.0, prediction=0): 12,\n",
       "             Row(label=8.0, prediction=1): 96,\n",
       "             Row(label=8.0, prediction=3): 4,\n",
       "             Row(label=8.0, prediction=5): 373,\n",
       "             Row(label=8.0, prediction=6): 15,\n",
       "             Row(label=8.0, prediction=7): 373,\n",
       "             Row(label=8.0, prediction=8): 86,\n",
       "             Row(label=9.0, prediction=1): 168,\n",
       "             Row(label=9.0, prediction=2): 49,\n",
       "             Row(label=9.0, prediction=3): 597,\n",
       "             Row(label=9.0, prediction=4): 74,\n",
       "             Row(label=9.0, prediction=6): 10,\n",
       "             Row(label=9.0, prediction=7): 1,\n",
       "             Row(label=9.0, prediction=8): 7,\n",
       "             Row(label=9.0, prediction=9): 49})"
      ]
     },
     "execution_count": 34,
     "metadata": {},
     "output_type": "execute_result"
    }
   ],
   "source": [
    "model.transform(penlpoints).select('label', 'prediction').rdd.map(lambda x : (x,1)).countByKey()  \n",
    "# prediction is a group, not an actual label."
   ]
  },
  {
   "cell_type": "code",
   "execution_count": null,
   "metadata": {
    "collapsed": true
   },
   "outputs": [],
   "source": []
  }
 ],
 "metadata": {
  "anaconda-cloud": {},
  "kernelspec": {
   "display_name": "Python [Root]",
   "language": "python",
   "name": "Python [Root]"
  },
  "language_info": {
   "codemirror_mode": {
    "name": "ipython",
    "version": 2
   },
   "file_extension": ".py",
   "mimetype": "text/x-python",
   "name": "python",
   "nbconvert_exporter": "python",
   "pygments_lexer": "ipython2",
   "version": "2.7.12"
  }
 },
 "nbformat": 4,
 "nbformat_minor": 0
}
