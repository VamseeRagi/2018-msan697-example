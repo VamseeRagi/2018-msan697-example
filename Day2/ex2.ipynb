{
 "cells": [
  {
   "cell_type": "code",
   "execution_count": 3,
   "metadata": {
    "collapsed": false
   },
   "outputs": [],
   "source": [
    "from pyspark import SparkContext\n",
    "sc = SparkContext.getOrCreate()"
   ]
  },
  {
   "cell_type": "code",
   "execution_count": 4,
   "metadata": {
    "collapsed": true
   },
   "outputs": [],
   "source": [
    "#Step 2-1. Create DataFrame,using RDDs"
   ]
  },
  {
   "cell_type": "code",
   "execution_count": 5,
   "metadata": {
    "collapsed": false
   },
   "outputs": [],
   "source": [
    "itPostsRows = sc.textFile(\"s3n://usfca-msan694/Italian_Stack_Exchange/italianPosts.csv\")"
   ]
  },
  {
   "cell_type": "code",
   "execution_count": 6,
   "metadata": {
    "collapsed": true
   },
   "outputs": [],
   "source": [
    "itPostsSplit = itPostsRows.map(lambda x: x.split(\"~\"))"
   ]
  },
  {
   "cell_type": "code",
   "execution_count": 7,
   "metadata": {
    "collapsed": true
   },
   "outputs": [],
   "source": [
    "#Step 2-2. Create DataFrame, using RDDs containing row data as tuples"
   ]
  },
  {
   "cell_type": "code",
   "execution_count": 8,
   "metadata": {
    "collapsed": true
   },
   "outputs": [],
   "source": [
    "itPostsRDD = itPostsSplit.map(lambda x: (x[0],x[1],x[2],x[3],x[4],x[5],x[6],x[7],x[8],x[9],x[10],x[11],x[12]))"
   ]
  },
  {
   "cell_type": "code",
   "execution_count": 9,
   "metadata": {
    "collapsed": false
   },
   "outputs": [
    {
     "data": {
      "text/plain": [
       "[(u'4',\n",
       "  u'2013-11-11 18:21:10.903',\n",
       "  u'17',\n",
       "  u\"&lt;p&gt;The infinitive tense is commonly used for expressing rules especially in signs (of any kind, not just road signs).&lt;/p&gt;&lt;p&gt;For instance&lt;/p&gt;&lt;blockquote&gt;  &lt;p&gt;Non fumare&lt;br&gt;  Non calpestare il prato&lt;br&gt;  Tenere la destra&lt;/p&gt;&lt;/blockquote&gt;&lt;p&gt;The language &quot;trick&quot; behind this use of the infinitive form is the omission of the clause &lt;em&gt;Si prega di&lt;/em&gt; or equivalent, so the above sentences are read as&lt;/p&gt;&lt;blockquote&gt;  &lt;p&gt;&lt;em&gt;&lt;strong&gt;Si prega di&lt;/em&gt;&lt;/strong&gt; non fumare&lt;br&gt;  &lt;strong&gt;&lt;em&gt;Si prega di&lt;/em&gt;&lt;/strong&gt; non calpestare il prato&lt;br&gt;  &lt;strong&gt;&lt;em&gt;Si prega di&lt;/em&gt;&lt;/strong&gt; tenere la destra&lt;/p&gt;&lt;/blockquote&gt;&lt;p&gt;Such form is not used in everyday's spoken language, as it's a convention used for giving orders and stating rules in an impersonal and formal way.&lt;/p&gt;&lt;hr&gt;&lt;p&gt;That being said, there's an official use of the infinitive tense as imperative, which is the negative imperative.&lt;/p&gt;&lt;p&gt;In Italian the positive imperative form goes as follows&lt;/p&gt;&lt;blockquote&gt;  &lt;p&gt;Tieni la destra!&lt;br&gt;  Parla con lei!&lt;/p&gt;&lt;/blockquote&gt;&lt;p&gt;whereas the negative imperative is formed with &lt;strong&gt;&lt;em&gt;non + infinitive tense&lt;/em&gt;&lt;/strong&gt;, as in &lt;/p&gt;&lt;blockquote&gt;  &lt;p&gt;Non tenere la destra!&lt;br&gt;  Non parlare con lei!&lt;/p&gt;&lt;/blockquote&gt;&lt;hr&gt;&lt;p&gt;As discussed in the comments, it's also nice to notice the differences and the similarities with other Romance languages, such as Spanish and French.&lt;/p&gt;&lt;p&gt;Apparently French has the same identical construct as Italian for expressing formal impersonal orders, for instance&lt;/p&gt;&lt;blockquote&gt;  &lt;p&gt;Ne pas fumer&lt;br&gt;  &lt;em&gt;Non fumare&lt;/em&gt;&lt;/p&gt;&lt;/blockquote&gt;&lt;p&gt;which is again a shortening for&lt;/p&gt;&lt;blockquote&gt;  &lt;p&gt;Merci de ne pas fumer&lt;br&gt;  &lt;em&gt;Grazie di non fumare&lt;/em&gt; or more idiomatically &lt;em&gt;Si prega di non fumare&lt;/em&gt;&lt;/p&gt;&lt;/blockquote&gt;&lt;p&gt;On the other hand Spanish behaves differently and it doesn't have a special construct for impersonal orders, rather just using the formal imperative form, which is formed with the subjunctive&lt;/p&gt;&lt;blockquote&gt;  &lt;p&gt;No fume&lt;br&gt;  &lt;em&gt;Non fumare&lt;/em&gt;, but also &lt;em&gt;Non fumi&lt;/em&gt;&lt;/p&gt;&lt;/blockquote&gt;&lt;p&gt;or&lt;/p&gt;&lt;blockquote&gt;  &lt;p&gt;Reduzca la velocidad&lt;br&gt;  &lt;em&gt;Ridurre la velocit\\xe0&lt;/em&gt;, but also &lt;em&gt;Riduca la velocit\\xe0&lt;/em&gt;&lt;/p&gt;&lt;/blockquote&gt;\",\n",
       "  u'23',\n",
       "  u'2013-11-10 19:37:54.187',\n",
       "  u'null',\n",
       "  u'',\n",
       "  u'',\n",
       "  u'null',\n",
       "  u'null',\n",
       "  u'2',\n",
       "  u'1165')]"
      ]
     },
     "execution_count": 9,
     "metadata": {},
     "output_type": "execute_result"
    }
   ],
   "source": [
    "itPostsRDD.take(1)"
   ]
  },
  {
   "cell_type": "code",
   "execution_count": 12,
   "metadata": {
    "collapsed": false
   },
   "outputs": [],
   "source": [
    "itPostsDFrame = itPostsRDD.toDF()"
   ]
  },
  {
   "cell_type": "code",
   "execution_count": 13,
   "metadata": {
    "collapsed": false
   },
   "outputs": [
    {
     "name": "stdout",
     "output_type": "stream",
     "text": [
      "+---+--------------------+---+--------------------+---+--------------------+----+--------------------+--------------------+----+----+---+----+\n",
      "| _1|                  _2| _3|                  _4| _5|                  _6|  _7|                  _8|                  _9| _10| _11|_12| _13|\n",
      "+---+--------------------+---+--------------------+---+--------------------+----+--------------------+--------------------+----+----+---+----+\n",
      "|  4|2013-11-11 18:21:...| 17|&lt;p&gt;The infi...| 23|2013-11-10 19:37:...|null|                    |                    |null|null|  2|1165|\n",
      "|  5|2013-11-10 20:31:...| 12|&lt;p&gt;Come cre...|  1|2013-11-10 19:44:...|  61|Cosa sapreste dir...| &lt;word-choice&gt;|   1|null|  1|1166|\n",
      "|  2|2013-11-10 20:31:...| 17|&lt;p&gt;Il verbo...|  5|2013-11-10 19:58:...|null|                    |                    |null|null|  2|1167|\n",
      "|  1|2014-07-25 13:15:...|154|&lt;p&gt;As part ...| 11|2013-11-10 22:03:...| 187|Ironic constructi...|&lt;english-compa...|   4|1170|  1|1168|\n",
      "|  0|2013-11-10 22:15:...| 70|&lt;p&gt;&lt;em&g...|  3|2013-11-10 22:15:...|null|                    |                    |null|null|  2|1169|\n",
      "|  2|2013-11-10 22:17:...| 17|&lt;p&gt;There's ...|  8|2013-11-10 22:17:...|null|                    |                    |null|null|  2|1170|\n",
      "|  1|2013-11-11 09:51:...| 63|&lt;p&gt;As other...|  3|2013-11-11 09:51:...|null|                    |                    |null|null|  2|1171|\n",
      "|  1|2013-11-12 23:57:...| 63|&lt;p&gt;The expr...|  1|2013-11-11 10:09:...|null|                    |                    |null|null|  2|1172|\n",
      "|  9|2014-01-05 11:13:...| 63|&lt;p&gt;When I w...|  5|2013-11-11 10:28:...| 122|Is &quot;scancell...|&lt;usage&gt;&lt;...|   3|1181|  1|1173|\n",
      "|  0|2013-11-11 10:58:...| 18|&lt;p&gt;Wow, wha...|  5|2013-11-11 10:58:...|null|                    |                    |null|null|  2|1174|\n",
      "|  1|2014-01-16 19:56:...| 63|&lt;p&gt;Suppose ...|  4|2013-11-11 11:31:...| 114|How should I tran...|&lt;usage&gt;&lt;...|   2|1177|  1|1175|\n",
      "|  0|2013-11-11 14:36:...| 63|&lt;p&gt;Except w...|  3|2013-11-11 11:39:...|  58|Using a comma bet...|&lt;usage&gt;&lt;...|   2|1182|  1|1176|\n",
      "|  3|2014-01-16 19:56:...| 71|&lt;p&gt;Both you...|  6|2013-11-11 11:57:...|null|                    |                    |null|null|  2|1177|\n",
      "|  0|2013-11-11 12:00:...| 12|&lt;blockquote&gt...|  1|2013-11-11 12:00:...|null|                    |                    |null|null|  2|1178|\n",
      "|  0|2013-11-12 11:24:...| 63|&lt;p&gt;Comparin...|  3|2013-11-11 12:58:...|  60|Using the conditi...|&lt;usage&gt;&lt;...|   2|1180|  1|1179|\n",
      "|  4|2013-11-11 19:54:...| 18|&lt;p&gt;Using th...|  5|2013-11-11 13:48:...|null|                    |                    |null|null|  2|1180|\n",
      "|  0|2013-11-11 18:20:...|132|&lt;p&gt;I would ...|  8|2013-11-11 14:04:...|null|                    |                    |null|null|  2|1181|\n",
      "|  1|2013-11-11 14:36:...|132|&lt;p&gt;Putting ...| 11|2013-11-11 14:17:...|null|                    |                    |null|null|  2|1182|\n",
      "|  2|2013-11-14 09:56:...| 22|&lt;p&gt;Many peo...|  6|2013-11-11 14:43:...| 321|Can Dante Alighie...|&lt;history&gt;&l...|   1|1263|  1|1183|\n",
      "|  2|2013-11-11 23:23:...|159|&lt;p&gt;Sono un'...|  7|2013-11-11 18:19:...| 138|origine dell'espr...|&lt;idioms&gt;&lt...|   2|1185|  1|1184|\n",
      "+---+--------------------+---+--------------------+---+--------------------+----+--------------------+--------------------+----+----+---+----+\n",
      "only showing top 20 rows\n",
      "\n"
     ]
    }
   ],
   "source": [
    "itPostsDFrame.show()"
   ]
  },
  {
   "cell_type": "code",
   "execution_count": 14,
   "metadata": {
    "collapsed": false
   },
   "outputs": [
    {
     "name": "stdout",
     "output_type": "stream",
     "text": [
      "+------------+--------------------+-----------+--------------------+-----+--------------------+---------+--------------------+--------------------+-----------+----------------+----------+----+\n",
      "|commentCount|    lastActivityDate|ownerUserId|                body|score|        creationDate|viewCount|               title|                tags|answerCount|acceptedAnswerId|postTypeId|  id|\n",
      "+------------+--------------------+-----------+--------------------+-----+--------------------+---------+--------------------+--------------------+-----------+----------------+----------+----+\n",
      "|           4|2013-11-11 18:21:...|         17|&lt;p&gt;The infi...|   23|2013-11-10 19:37:...|     null|                    |                    |       null|            null|         2|1165|\n",
      "|           5|2013-11-10 20:31:...|         12|&lt;p&gt;Come cre...|    1|2013-11-10 19:44:...|       61|Cosa sapreste dir...| &lt;word-choice&gt;|          1|            null|         1|1166|\n",
      "|           2|2013-11-10 20:31:...|         17|&lt;p&gt;Il verbo...|    5|2013-11-10 19:58:...|     null|                    |                    |       null|            null|         2|1167|\n",
      "|           1|2014-07-25 13:15:...|        154|&lt;p&gt;As part ...|   11|2013-11-10 22:03:...|      187|Ironic constructi...|&lt;english-compa...|          4|            1170|         1|1168|\n",
      "|           0|2013-11-10 22:15:...|         70|&lt;p&gt;&lt;em&g...|    3|2013-11-10 22:15:...|     null|                    |                    |       null|            null|         2|1169|\n",
      "|           2|2013-11-10 22:17:...|         17|&lt;p&gt;There's ...|    8|2013-11-10 22:17:...|     null|                    |                    |       null|            null|         2|1170|\n",
      "|           1|2013-11-11 09:51:...|         63|&lt;p&gt;As other...|    3|2013-11-11 09:51:...|     null|                    |                    |       null|            null|         2|1171|\n",
      "|           1|2013-11-12 23:57:...|         63|&lt;p&gt;The expr...|    1|2013-11-11 10:09:...|     null|                    |                    |       null|            null|         2|1172|\n",
      "|           9|2014-01-05 11:13:...|         63|&lt;p&gt;When I w...|    5|2013-11-11 10:28:...|      122|Is &quot;scancell...|&lt;usage&gt;&lt;...|          3|            1181|         1|1173|\n",
      "|           0|2013-11-11 10:58:...|         18|&lt;p&gt;Wow, wha...|    5|2013-11-11 10:58:...|     null|                    |                    |       null|            null|         2|1174|\n",
      "|           1|2014-01-16 19:56:...|         63|&lt;p&gt;Suppose ...|    4|2013-11-11 11:31:...|      114|How should I tran...|&lt;usage&gt;&lt;...|          2|            1177|         1|1175|\n",
      "|           0|2013-11-11 14:36:...|         63|&lt;p&gt;Except w...|    3|2013-11-11 11:39:...|       58|Using a comma bet...|&lt;usage&gt;&lt;...|          2|            1182|         1|1176|\n",
      "|           3|2014-01-16 19:56:...|         71|&lt;p&gt;Both you...|    6|2013-11-11 11:57:...|     null|                    |                    |       null|            null|         2|1177|\n",
      "|           0|2013-11-11 12:00:...|         12|&lt;blockquote&gt...|    1|2013-11-11 12:00:...|     null|                    |                    |       null|            null|         2|1178|\n",
      "|           0|2013-11-12 11:24:...|         63|&lt;p&gt;Comparin...|    3|2013-11-11 12:58:...|       60|Using the conditi...|&lt;usage&gt;&lt;...|          2|            1180|         1|1179|\n",
      "|           4|2013-11-11 19:54:...|         18|&lt;p&gt;Using th...|    5|2013-11-11 13:48:...|     null|                    |                    |       null|            null|         2|1180|\n",
      "|           0|2013-11-11 18:20:...|        132|&lt;p&gt;I would ...|    8|2013-11-11 14:04:...|     null|                    |                    |       null|            null|         2|1181|\n",
      "|           1|2013-11-11 14:36:...|        132|&lt;p&gt;Putting ...|   11|2013-11-11 14:17:...|     null|                    |                    |       null|            null|         2|1182|\n",
      "|           2|2013-11-14 09:56:...|         22|&lt;p&gt;Many peo...|    6|2013-11-11 14:43:...|      321|Can Dante Alighie...|&lt;history&gt;&l...|          1|            1263|         1|1183|\n",
      "|           2|2013-11-11 23:23:...|        159|&lt;p&gt;Sono un'...|    7|2013-11-11 18:19:...|      138|origine dell'espr...|&lt;idioms&gt;&lt...|          2|            1185|         1|1184|\n",
      "+------------+--------------------+-----------+--------------------+-----+--------------------+---------+--------------------+--------------------+-----------+----------------+----------+----+\n",
      "only showing top 20 rows\n",
      "\n"
     ]
    }
   ],
   "source": [
    "itPostsDF = itPostsRDD.toDF([\"commentCount\", \"lastActivityDate\", \"ownerUserId\", \"body\", \"score\", \"creationDate\", \"viewCount\", \"title\", \"tags\", \"answerCount\", \"acceptedAnswerId\", \"postTypeId\", \"id\"])\n",
    "\n",
    "itPostsDF.show()"
   ]
  },
  {
   "cell_type": "code",
   "execution_count": 15,
   "metadata": {
    "collapsed": false
   },
   "outputs": [
    {
     "name": "stdout",
     "output_type": "stream",
     "text": [
      "root\n",
      " |-- commentCount: string (nullable = true)\n",
      " |-- lastActivityDate: string (nullable = true)\n",
      " |-- ownerUserId: string (nullable = true)\n",
      " |-- body: string (nullable = true)\n",
      " |-- score: string (nullable = true)\n",
      " |-- creationDate: string (nullable = true)\n",
      " |-- viewCount: string (nullable = true)\n",
      " |-- title: string (nullable = true)\n",
      " |-- tags: string (nullable = true)\n",
      " |-- answerCount: string (nullable = true)\n",
      " |-- acceptedAnswerId: string (nullable = true)\n",
      " |-- postTypeId: string (nullable = true)\n",
      " |-- id: string (nullable = true)\n",
      "\n"
     ]
    }
   ],
   "source": [
    "itPostsDF.printSchema()"
   ]
  },
  {
   "cell_type": "code",
   "execution_count": 16,
   "metadata": {
    "collapsed": false
   },
   "outputs": [
    {
     "name": "stdout",
     "output_type": "stream",
     "text": [
      "+------------+--------------------+-----------+--------------------+-----+--------------------+---------+--------------------+--------------------+-----------+----------------+----------+----+\n",
      "|commentCount|    lastActivityDate|ownerUserId|                body|score|        creationDate|viewCount|               title|                tags|answerCount|acceptedAnswerId|postTypeId|  id|\n",
      "+------------+--------------------+-----------+--------------------+-----+--------------------+---------+--------------------+--------------------+-----------+----------------+----------+----+\n",
      "|           4|2013-11-11 18:21:...|         17|&lt;p&gt;The infi...|   23|2013-11-10 19:37:...|     null|                    |                    |       null|            null|         2|1165|\n",
      "|           5|2013-11-10 20:31:...|         12|&lt;p&gt;Come cre...|    1|2013-11-10 19:44:...|       61|Cosa sapreste dir...| &lt;word-choice&gt;|          1|            null|         1|1166|\n",
      "|           2|2013-11-10 20:31:...|         17|&lt;p&gt;Il verbo...|    5|2013-11-10 19:58:...|     null|                    |                    |       null|            null|         2|1167|\n",
      "|           1|2014-07-25 13:15:...|        154|&lt;p&gt;As part ...|   11|2013-11-10 22:03:...|      187|Ironic constructi...|&lt;english-compa...|          4|            1170|         1|1168|\n",
      "|           0|2013-11-10 22:15:...|         70|&lt;p&gt;&lt;em&g...|    3|2013-11-10 22:15:...|     null|                    |                    |       null|            null|         2|1169|\n",
      "|           2|2013-11-10 22:17:...|         17|&lt;p&gt;There's ...|    8|2013-11-10 22:17:...|     null|                    |                    |       null|            null|         2|1170|\n",
      "|           1|2013-11-11 09:51:...|         63|&lt;p&gt;As other...|    3|2013-11-11 09:51:...|     null|                    |                    |       null|            null|         2|1171|\n",
      "|           1|2013-11-12 23:57:...|         63|&lt;p&gt;The expr...|    1|2013-11-11 10:09:...|     null|                    |                    |       null|            null|         2|1172|\n",
      "|           9|2014-01-05 11:13:...|         63|&lt;p&gt;When I w...|    5|2013-11-11 10:28:...|      122|Is &quot;scancell...|&lt;usage&gt;&lt;...|          3|            1181|         1|1173|\n",
      "|           0|2013-11-11 10:58:...|         18|&lt;p&gt;Wow, wha...|    5|2013-11-11 10:58:...|     null|                    |                    |       null|            null|         2|1174|\n",
      "|           1|2014-01-16 19:56:...|         63|&lt;p&gt;Suppose ...|    4|2013-11-11 11:31:...|      114|How should I tran...|&lt;usage&gt;&lt;...|          2|            1177|         1|1175|\n",
      "|           0|2013-11-11 14:36:...|         63|&lt;p&gt;Except w...|    3|2013-11-11 11:39:...|       58|Using a comma bet...|&lt;usage&gt;&lt;...|          2|            1182|         1|1176|\n",
      "|           3|2014-01-16 19:56:...|         71|&lt;p&gt;Both you...|    6|2013-11-11 11:57:...|     null|                    |                    |       null|            null|         2|1177|\n",
      "|           0|2013-11-11 12:00:...|         12|&lt;blockquote&gt...|    1|2013-11-11 12:00:...|     null|                    |                    |       null|            null|         2|1178|\n",
      "|           0|2013-11-12 11:24:...|         63|&lt;p&gt;Comparin...|    3|2013-11-11 12:58:...|       60|Using the conditi...|&lt;usage&gt;&lt;...|          2|            1180|         1|1179|\n",
      "|           4|2013-11-11 19:54:...|         18|&lt;p&gt;Using th...|    5|2013-11-11 13:48:...|     null|                    |                    |       null|            null|         2|1180|\n",
      "|           0|2013-11-11 18:20:...|        132|&lt;p&gt;I would ...|    8|2013-11-11 14:04:...|     null|                    |                    |       null|            null|         2|1181|\n",
      "|           1|2013-11-11 14:36:...|        132|&lt;p&gt;Putting ...|   11|2013-11-11 14:17:...|     null|                    |                    |       null|            null|         2|1182|\n",
      "|           2|2013-11-14 09:56:...|         22|&lt;p&gt;Many peo...|    6|2013-11-11 14:43:...|      321|Can Dante Alighie...|&lt;history&gt;&l...|          1|            1263|         1|1183|\n",
      "|           2|2013-11-11 23:23:...|        159|&lt;p&gt;Sono un'...|    7|2013-11-11 18:19:...|      138|origine dell'espr...|&lt;idioms&gt;&lt...|          2|            1185|         1|1184|\n",
      "+------------+--------------------+-----------+--------------------+-----+--------------------+---------+--------------------+--------------------+-----------+----------------+----------+----+\n",
      "only showing top 20 rows\n",
      "\n"
     ]
    }
   ],
   "source": [
    "itPostsDF.show()"
   ]
  },
  {
   "cell_type": "code",
   "execution_count": null,
   "metadata": {
    "collapsed": true
   },
   "outputs": [],
   "source": []
  }
 ],
 "metadata": {
  "anaconda-cloud": {},
  "kernelspec": {
   "display_name": "Python [Root]",
   "language": "python",
   "name": "Python [Root]"
  }
 },
 "nbformat": 4,
 "nbformat_minor": 0
}
