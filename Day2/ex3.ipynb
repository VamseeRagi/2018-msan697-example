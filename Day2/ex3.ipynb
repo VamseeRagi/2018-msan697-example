{
 "cells": [
  {
   "cell_type": "code",
   "execution_count": 1,
   "metadata": {
    "collapsed": false
   },
   "outputs": [],
   "source": [
    "from pyspark import SparkContext\n",
    "sc = SparkContext.getOrCreate()\n",
    "sqlContext = SQLContext(sc) "
   ]
  },
  {
   "cell_type": "code",
   "execution_count": 2,
   "metadata": {
    "collapsed": false
   },
   "outputs": [],
   "source": [
    "itPostsRows = sc.textFile(\"../Data/Italian_Stack_Exchange/italianPosts.csv\")"
   ]
  },
  {
   "cell_type": "code",
   "execution_count": 40,
   "metadata": {
    "collapsed": false
   },
   "outputs": [],
   "source": [
    "from pyspark.sql import Row\n",
    "from datetime import datetime\n",
    "def toIntSafe(inval):\n",
    "  try:\n",
    "    return int(inval)\n",
    "  except ValueError:\n",
    "    return None\n",
    "\n",
    "def toTimeSafe(inval):\n",
    "  try:\n",
    "    return datetime.strptime(inval, \"%Y-%m-%d %H:%M:%S.%f\")\n",
    "  except ValueError:\n",
    "    return None\n",
    "\n",
    "def toLongSafe(inval):\n",
    "  try:\n",
    "    return long(inval)\n",
    "  except ValueError:\n",
    "    return None\n",
    "    \n",
    "def stringToPost(row):\n",
    "  r = row.encode('utf8').split(\"~\")\n",
    "  return Row(\n",
    "    toIntSafe(r[0]),\n",
    "    toTimeSafe(r[1]),\n",
    "    toIntSafe(r[2]),\n",
    "    r[3],\n",
    "    toIntSafe(r[4]),\n",
    "    toTimeSafe(r[5]),\n",
    "    toIntSafe(r[6]),\n",
    "    toIntSafe(r[7]),\n",
    "    r[8],\n",
    "    toIntSafe(r[9]),\n",
    "    toLongSafe(r[10]),\n",
    "    toLongSafe(r[11]),\n",
    "    long(r[12]))"
   ]
  },
  {
   "cell_type": "code",
   "execution_count": 41,
   "metadata": {
    "collapsed": true
   },
   "outputs": [],
   "source": [
    "from pyspark.sql.types import *\n",
    "postSchema = StructType([\n",
    "  StructField(\"commentCount\", IntegerType(), True),\n",
    "  StructField(\"lastActivityDate\", TimestampType(), True),\n",
    "  StructField(\"ownerUserId\", LongType(), True),\n",
    "  StructField(\"body\", StringType(), True),\n",
    "  StructField(\"score\", IntegerType(), True),\n",
    "  StructField(\"creationDate\", TimestampType(), True),\n",
    "  StructField(\"viewCount\", IntegerType(), True),\n",
    "  StructField(\"title\", StringType(), True),\n",
    "  StructField(\"tags\", StringType(), True),\n",
    "  StructField(\"answerCount\", IntegerType(), True),\n",
    "  StructField(\"acceptedAnswerId\", LongType(), True),\n",
    "  StructField(\"postTypeId\", LongType(), True),\n",
    "  StructField(\"id\", LongType(), False)\n",
    "  ])"
   ]
  },
  {
   "cell_type": "code",
   "execution_count": 42,
   "metadata": {
    "collapsed": false
   },
   "outputs": [],
   "source": [
    "rowRDD = itPostsRows.map(lambda x: stringToPost(x))"
   ]
  },
  {
   "cell_type": "code",
   "execution_count": 43,
   "metadata": {
    "collapsed": false
   },
   "outputs": [],
   "source": [
    "itPostsDFStruct = sqlContext.createDataFrame(rowRDD, postSchema)"
   ]
  },
  {
   "cell_type": "code",
   "execution_count": 44,
   "metadata": {
    "collapsed": false
   },
   "outputs": [
    {
     "name": "stdout",
     "output_type": "stream",
     "text": [
      "root\n",
      " |-- commentCount: integer (nullable = true)\n",
      " |-- lastActivityDate: timestamp (nullable = true)\n",
      " |-- ownerUserId: long (nullable = true)\n",
      " |-- body: string (nullable = true)\n",
      " |-- score: integer (nullable = true)\n",
      " |-- creationDate: timestamp (nullable = true)\n",
      " |-- viewCount: integer (nullable = true)\n",
      " |-- title: string (nullable = true)\n",
      " |-- tags: string (nullable = true)\n",
      " |-- answerCount: integer (nullable = true)\n",
      " |-- acceptedAnswerId: long (nullable = true)\n",
      " |-- postTypeId: long (nullable = true)\n",
      " |-- id: long (nullable = false)\n",
      "\n"
     ]
    }
   ],
   "source": [
    "itPostsDFStruct.printSchema()"
   ]
  },
  {
   "cell_type": "code",
   "execution_count": 45,
   "metadata": {
    "collapsed": false
   },
   "outputs": [
    {
     "name": "stdout",
     "output_type": "stream",
     "text": [
      "+------------+--------------------+-----------+--------------------+-----+--------------------+---------+-----+--------------------+-----------+----------------+----------+----+\n",
      "|commentCount|    lastActivityDate|ownerUserId|                body|score|        creationDate|viewCount|title|                tags|answerCount|acceptedAnswerId|postTypeId|  id|\n",
      "+------------+--------------------+-----------+--------------------+-----+--------------------+---------+-----+--------------------+-----------+----------------+----------+----+\n",
      "|           4|2013-11-11 18:21:...|         17|&lt;p&gt;The infi...|   23|2013-11-10 19:37:...|     null| null|                    |       null|            null|         2|1165|\n",
      "|           5|2013-11-10 20:31:...|         12|&lt;p&gt;Come cre...|    1|2013-11-10 19:44:...|       61| null| &lt;word-choice&gt;|          1|            null|         1|1166|\n",
      "|           2|2013-11-10 20:31:...|         17|&lt;p&gt;Il verbo...|    5|2013-11-10 19:58:...|     null| null|                    |       null|            null|         2|1167|\n",
      "|           1|2014-07-25 13:15:...|        154|&lt;p&gt;As part ...|   11|2013-11-10 22:03:...|      187| null|&lt;english-compa...|          4|            1170|         1|1168|\n",
      "|           0|2013-11-10 22:15:...|         70|&lt;p&gt;&lt;em&g...|    3|2013-11-10 22:15:...|     null| null|                    |       null|            null|         2|1169|\n",
      "|           2|2013-11-10 22:17:...|         17|&lt;p&gt;There's ...|    8|2013-11-10 22:17:...|     null| null|                    |       null|            null|         2|1170|\n",
      "|           1|2013-11-11 09:51:...|         63|&lt;p&gt;As other...|    3|2013-11-11 09:51:...|     null| null|                    |       null|            null|         2|1171|\n",
      "|           1|2013-11-12 23:57:...|         63|&lt;p&gt;The expr...|    1|2013-11-11 10:09:...|     null| null|                    |       null|            null|         2|1172|\n",
      "|           9|2014-01-05 11:13:...|         63|&lt;p&gt;When I w...|    5|2013-11-11 10:28:...|      122| null|&lt;usage&gt;&lt;...|          3|            1181|         1|1173|\n",
      "|           0|2013-11-11 10:58:...|         18|&lt;p&gt;Wow, wha...|    5|2013-11-11 10:58:...|     null| null|                    |       null|            null|         2|1174|\n",
      "|           1|2014-01-16 19:56:...|         63|&lt;p&gt;Suppose ...|    4|2013-11-11 11:31:...|      114| null|&lt;usage&gt;&lt;...|          2|            1177|         1|1175|\n",
      "|           0|2013-11-11 14:36:...|         63|&lt;p&gt;Except w...|    3|2013-11-11 11:39:...|       58| null|&lt;usage&gt;&lt;...|          2|            1182|         1|1176|\n",
      "|           3|2014-01-16 19:56:...|         71|&lt;p&gt;Both you...|    6|2013-11-11 11:57:...|     null| null|                    |       null|            null|         2|1177|\n",
      "|           0|2013-11-11 12:00:...|         12|&lt;blockquote&gt...|    1|2013-11-11 12:00:...|     null| null|                    |       null|            null|         2|1178|\n",
      "|           0|2013-11-12 11:24:...|         63|&lt;p&gt;Comparin...|    3|2013-11-11 12:58:...|       60| null|&lt;usage&gt;&lt;...|          2|            1180|         1|1179|\n",
      "|           4|2013-11-11 19:54:...|         18|&lt;p&gt;Using th...|    5|2013-11-11 13:48:...|     null| null|                    |       null|            null|         2|1180|\n",
      "|           0|2013-11-11 18:20:...|        132|&lt;p&gt;I would ...|    8|2013-11-11 14:04:...|     null| null|                    |       null|            null|         2|1181|\n",
      "|           1|2013-11-11 14:36:...|        132|&lt;p&gt;Putting ...|   11|2013-11-11 14:17:...|     null| null|                    |       null|            null|         2|1182|\n",
      "|           2|2013-11-14 09:56:...|         22|&lt;p&gt;Many peo...|    6|2013-11-11 14:43:...|      321| null|&lt;history&gt;&l...|          1|            1263|         1|1183|\n",
      "|           2|2013-11-11 23:23:...|        159|&lt;p&gt;Sono un'...|    7|2013-11-11 18:19:...|      138| null|&lt;idioms&gt;&lt...|          2|            1185|         1|1184|\n",
      "+------------+--------------------+-----------+--------------------+-----+--------------------+---------+-----+--------------------+-----------+----------------+----------+----+\n",
      "only showing top 20 rows\n",
      "\n"
     ]
    }
   ],
   "source": [
    "itPostsDFStruct.show()"
   ]
  },
  {
   "cell_type": "code",
   "execution_count": null,
   "metadata": {
    "collapsed": true
   },
   "outputs": [],
   "source": []
  }
 ],
 "metadata": {
  "anaconda-cloud": {},
  "kernelspec": {
   "display_name": "Python [Root]",
   "language": "python",
   "name": "Python [Root]"
  },
  "language_info": {
   "codemirror_mode": {
    "name": "ipython",
    "version": 2
   },
   "file_extension": ".py",
   "mimetype": "text/x-python",
   "name": "python",
   "nbconvert_exporter": "python",
   "pygments_lexer": "ipython2",
   "version": "2.7.12"
  }
 },
 "nbformat": 4,
 "nbformat_minor": 0
}
