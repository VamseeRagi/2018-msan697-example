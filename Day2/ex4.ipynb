{
 "cells": [
  {
   "cell_type": "code",
   "execution_count": 2,
   "metadata": {
    "collapsed": false
   },
   "outputs": [],
   "source": [
    "from pyspark import SparkContext\n",
    "sc = SparkContext.getOrCreate()\n",
    "sqlContext = SQLContext(sc)"
   ]
  },
  {
   "cell_type": "code",
   "execution_count": 3,
   "metadata": {
    "collapsed": false
   },
   "outputs": [],
   "source": [
    "itPostsRows = sc.textFile(\"../Data/Italian_Stack_Exchange/italianPosts.csv\")\n",
    "itPostsSplit = itPostsRows.map(lambda x: x.split(\"~\"))\n",
    "from pyspark.sql import Row\n",
    "from datetime import datetime\n",
    "def toIntSafe(inval):\n",
    "  try:\n",
    "    return int(inval)\n",
    "  except ValueError:\n",
    "    return None\n",
    "\n",
    "def toTimeSafe(inval):\n",
    "  try:\n",
    "    return datetime.strptime(inval, \"%Y-%m-%d %H:%M:%S.%f\")\n",
    "  except ValueError:\n",
    "    return None\n",
    "\n",
    "def toLongSafe(inval):\n",
    "  try:\n",
    "    return long(inval)\n",
    "  except ValueError:\n",
    "    return None\n",
    "    \n",
    "def stringToPost(row):\n",
    "  r = row.encode('utf8').split(\"~\")\n",
    "  return Row(\n",
    "    toIntSafe(r[0]),\n",
    "    toTimeSafe(r[1]),\n",
    "    toIntSafe(r[2]),\n",
    "    r[3],\n",
    "    toIntSafe(r[4]),\n",
    "    toTimeSafe(r[5]),\n",
    "    toIntSafe(r[6]),\n",
    "    toIntSafe(r[7]),\n",
    "    r[8],\n",
    "    toIntSafe(r[9]),\n",
    "    toLongSafe(r[10]),\n",
    "    toLongSafe(r[11]),\n",
    "    long(r[12]))\n",
    "from pyspark.sql.types import *\n",
    "postSchema = StructType([\n",
    "  StructField(\"commentCount\", IntegerType(), True),\n",
    "  StructField(\"lastActivityDate\", TimestampType(), True),\n",
    "  StructField(\"ownerUserId\", LongType(), True),\n",
    "  StructField(\"body\", StringType(), True),\n",
    "  StructField(\"score\", IntegerType(), True),\n",
    "  StructField(\"creationDate\", TimestampType(), True),\n",
    "  StructField(\"viewCount\", IntegerType(), True),\n",
    "  StructField(\"title\", StringType(), True),\n",
    "  StructField(\"tags\", StringType(), True),\n",
    "  StructField(\"answerCount\", IntegerType(), True),\n",
    "  StructField(\"acceptedAnswerId\", LongType(), True),\n",
    "  StructField(\"postTypeId\", LongType(), True),\n",
    "  StructField(\"id\", LongType(), False)\n",
    "  ])\n",
    "rowRDD = itPostsRows.map(lambda x: stringToPost(x))\n",
    "itPostsDFStruct = sqlContext.createDataFrame(rowRDD, postSchema)"
   ]
  },
  {
   "cell_type": "code",
   "execution_count": 21,
   "metadata": {
    "collapsed": false
   },
   "outputs": [
    {
     "name": "stdout",
     "output_type": "stream",
     "text": [
      "+----+--------------------+\n",
      "|  id|                body|\n",
      "+----+--------------------+\n",
      "|1165|&lt;p&gt;The infi...|\n",
      "|1166|&lt;p&gt;Come cre...|\n",
      "|1167|&lt;p&gt;Il verbo...|\n",
      "|1168|&lt;p&gt;As part ...|\n",
      "|1169|&lt;p&gt;&lt;em&g...|\n",
      "|1170|&lt;p&gt;There's ...|\n",
      "|1171|&lt;p&gt;As other...|\n",
      "|1172|&lt;p&gt;The expr...|\n",
      "|1173|&lt;p&gt;When I w...|\n",
      "|1174|&lt;p&gt;Wow, wha...|\n",
      "|1175|&lt;p&gt;Suppose ...|\n",
      "|1176|&lt;p&gt;Except w...|\n",
      "|1177|&lt;p&gt;Both you...|\n",
      "|1178|&lt;blockquote&gt...|\n",
      "|1179|&lt;p&gt;Comparin...|\n",
      "|1180|&lt;p&gt;Using th...|\n",
      "|1181|&lt;p&gt;I would ...|\n",
      "|1182|&lt;p&gt;Putting ...|\n",
      "|1183|&lt;p&gt;Many peo...|\n",
      "|1184|&lt;p&gt;Sono un'...|\n",
      "+----+--------------------+\n",
      "only showing top 20 rows\n",
      "\n"
     ]
    }
   ],
   "source": [
    "itPostsDFIdBody = itPostsDFStruct.select(\"id\", \"body\")\n",
    "itPostsDFIdBody.show()"
   ]
  },
  {
   "cell_type": "code",
   "execution_count": 22,
   "metadata": {
    "collapsed": false
   },
   "outputs": [
    {
     "name": "stdout",
     "output_type": "stream",
     "text": [
      "+----+--------------------+\n",
      "|  id|                body|\n",
      "+----+--------------------+\n",
      "|1165|&lt;p&gt;The infi...|\n",
      "|1166|&lt;p&gt;Come cre...|\n",
      "|1167|&lt;p&gt;Il verbo...|\n",
      "|1168|&lt;p&gt;As part ...|\n",
      "|1169|&lt;p&gt;&lt;em&g...|\n",
      "|1170|&lt;p&gt;There's ...|\n",
      "|1171|&lt;p&gt;As other...|\n",
      "|1172|&lt;p&gt;The expr...|\n",
      "|1173|&lt;p&gt;When I w...|\n",
      "|1174|&lt;p&gt;Wow, wha...|\n",
      "|1175|&lt;p&gt;Suppose ...|\n",
      "|1176|&lt;p&gt;Except w...|\n",
      "|1177|&lt;p&gt;Both you...|\n",
      "|1178|&lt;blockquote&gt...|\n",
      "|1179|&lt;p&gt;Comparin...|\n",
      "|1180|&lt;p&gt;Using th...|\n",
      "|1181|&lt;p&gt;I would ...|\n",
      "|1182|&lt;p&gt;Putting ...|\n",
      "|1183|&lt;p&gt;Many peo...|\n",
      "|1184|&lt;p&gt;Sono un'...|\n",
      "+----+--------------------+\n",
      "only showing top 20 rows\n",
      "\n"
     ]
    }
   ],
   "source": [
    "itPostsDFIdBody = itPostsDFStruct.select(itPostsDFStruct[\"id\"], itPostsDFStruct[\"body\"])\n",
    "itPostsDFIdBody.show()"
   ]
  },
  {
   "cell_type": "code",
   "execution_count": 23,
   "metadata": {
    "collapsed": false
   },
   "outputs": [
    {
     "name": "stdout",
     "output_type": "stream",
     "text": [
      "+------------+--------------------+-----------+-----+--------------------+---------+-----+--------------------+-----------+----------------+----------+----+\n",
      "|commentCount|    lastActivityDate|ownerUserId|score|        creationDate|viewCount|title|                tags|answerCount|acceptedAnswerId|postTypeId|  id|\n",
      "+------------+--------------------+-----------+-----+--------------------+---------+-----+--------------------+-----------+----------------+----------+----+\n",
      "|           4|2013-11-11 18:21:...|         17|   23|2013-11-10 19:37:...|     null| null|                    |       null|            null|         2|1165|\n",
      "|           5|2013-11-10 20:31:...|         12|    1|2013-11-10 19:44:...|       61| null| &lt;word-choice&gt;|          1|            null|         1|1166|\n",
      "|           2|2013-11-10 20:31:...|         17|    5|2013-11-10 19:58:...|     null| null|                    |       null|            null|         2|1167|\n",
      "|           1|2014-07-25 13:15:...|        154|   11|2013-11-10 22:03:...|      187| null|&lt;english-compa...|          4|            1170|         1|1168|\n",
      "|           0|2013-11-10 22:15:...|         70|    3|2013-11-10 22:15:...|     null| null|                    |       null|            null|         2|1169|\n",
      "|           2|2013-11-10 22:17:...|         17|    8|2013-11-10 22:17:...|     null| null|                    |       null|            null|         2|1170|\n",
      "|           1|2013-11-11 09:51:...|         63|    3|2013-11-11 09:51:...|     null| null|                    |       null|            null|         2|1171|\n",
      "|           1|2013-11-12 23:57:...|         63|    1|2013-11-11 10:09:...|     null| null|                    |       null|            null|         2|1172|\n",
      "|           9|2014-01-05 11:13:...|         63|    5|2013-11-11 10:28:...|      122| null|&lt;usage&gt;&lt;...|          3|            1181|         1|1173|\n",
      "|           0|2013-11-11 10:58:...|         18|    5|2013-11-11 10:58:...|     null| null|                    |       null|            null|         2|1174|\n",
      "|           1|2014-01-16 19:56:...|         63|    4|2013-11-11 11:31:...|      114| null|&lt;usage&gt;&lt;...|          2|            1177|         1|1175|\n",
      "|           0|2013-11-11 14:36:...|         63|    3|2013-11-11 11:39:...|       58| null|&lt;usage&gt;&lt;...|          2|            1182|         1|1176|\n",
      "|           3|2014-01-16 19:56:...|         71|    6|2013-11-11 11:57:...|     null| null|                    |       null|            null|         2|1177|\n",
      "|           0|2013-11-11 12:00:...|         12|    1|2013-11-11 12:00:...|     null| null|                    |       null|            null|         2|1178|\n",
      "|           0|2013-11-12 11:24:...|         63|    3|2013-11-11 12:58:...|       60| null|&lt;usage&gt;&lt;...|          2|            1180|         1|1179|\n",
      "|           4|2013-11-11 19:54:...|         18|    5|2013-11-11 13:48:...|     null| null|                    |       null|            null|         2|1180|\n",
      "|           0|2013-11-11 18:20:...|        132|    8|2013-11-11 14:04:...|     null| null|                    |       null|            null|         2|1181|\n",
      "|           1|2013-11-11 14:36:...|        132|   11|2013-11-11 14:17:...|     null| null|                    |       null|            null|         2|1182|\n",
      "|           2|2013-11-14 09:56:...|         22|    6|2013-11-11 14:43:...|      321| null|&lt;history&gt;&l...|          1|            1263|         1|1183|\n",
      "|           2|2013-11-11 23:23:...|        159|    7|2013-11-11 18:19:...|      138| null|&lt;idioms&gt;&lt...|          2|            1185|         1|1184|\n",
      "+------------+--------------------+-----------+-----+--------------------+---------+-----+--------------------+-----------+----------------+----------+----+\n",
      "only showing top 20 rows\n",
      "\n"
     ]
    }
   ],
   "source": [
    "itPostsDFStruct.drop(\"body\").show()"
   ]
  },
  {
   "cell_type": "code",
   "execution_count": 33,
   "metadata": {
    "collapsed": false
   },
   "outputs": [],
   "source": [
    "itPostsDFFilteredId = itPostsDFStruct.where(\"id > 2000 and id < 2010\")\n",
    "#Same as..\n",
    "#itPostsDFFilteredId = itPostsDFStruct.filter(\"id > 2000 and id < 2010\")"
   ]
  },
  {
   "cell_type": "code",
   "execution_count": 31,
   "metadata": {
    "collapsed": false
   },
   "outputs": [
    {
     "name": "stdout",
     "output_type": "stream",
     "text": [
      "+----+--------------------+\n",
      "|  id|                body|\n",
      "+----+--------------------+\n",
      "|2001|&lt;p&gt;Sardinia...|\n",
      "|2002|&lt;p&gt;I am fro...|\n",
      "|2003|&lt;p&gt;La rispo...|\n",
      "|2004|&lt;p&gt;In itali...|\n",
      "|2005|&lt;p&gt;Mi Ã¨ st...|\n",
      "|2006|&lt;p&gt;âCa.â...|\n",
      "|2007|&lt;p&gt;Un chimi...|\n",
      "|2008|&lt;p&gt;&quot;sp...|\n",
      "|2009|&lt;p&gt;Ad occhi...|\n",
      "+----+--------------------+\n",
      "\n"
     ]
    }
   ],
   "source": [
    "itPostsDFFilteredId.select(\"id\",\"body\").show()"
   ]
  },
  {
   "cell_type": "code",
   "execution_count": 26,
   "metadata": {
    "collapsed": false
   },
   "outputs": [
    {
     "data": {
      "text/plain": [
       "DataFrame[commentCount: int, lastActivityDate: timestamp, ownerUserId: bigint, body: string, score: int, creationDate: timestamp, viewCount: int, title: string, tags: string, answerCount: int, acceptedAnswerId: bigint, postTypeId: bigint, selected_id: bigint]"
      ]
     },
     "execution_count": 26,
     "metadata": {},
     "output_type": "execute_result"
    }
   ],
   "source": [
    "itPostsDFFilteredId.withColumnRenamed(\"id\",\"selected_id\")"
   ]
  },
  {
   "cell_type": "code",
   "execution_count": 27,
   "metadata": {
    "collapsed": false
   },
   "outputs": [],
   "source": [
    "itPostsDFWithRatio = itPostsDFFilteredId.withColumn(\"score_div_answer\",itPostsDFFilteredId['score']/itPostsDFFilteredId['answerCount'])"
   ]
  },
  {
   "cell_type": "code",
   "execution_count": 28,
   "metadata": {
    "collapsed": false
   },
   "outputs": [
    {
     "name": "stdout",
     "output_type": "stream",
     "text": [
      "+------------+--------------------+-----------+--------------------+-----+--------------------+---------+-----+--------------------+-----------+----------------+----------+----+----------------+\n",
      "|commentCount|    lastActivityDate|ownerUserId|                body|score|        creationDate|viewCount|title|                tags|answerCount|acceptedAnswerId|postTypeId|  id|score_div_answer|\n",
      "+------------+--------------------+-----------+--------------------+-----+--------------------+---------+-----+--------------------+-----------+----------------+----------+----+----------------+\n",
      "|           8|2014-06-14 07:37:...|        223|&lt;p&gt;Mi Ã¨ st...|    2|2014-06-05 12:04:...|      104| null|&lt;word-usage&gt...|          1|            2006|         1|2005|             2.0|\n",
      "|           1|2014-07-02 19:39:...|        223|&lt;p&gt;Un chimi...|    2|2014-06-06 11:34:...|       45| null|&lt;word-usage&gt...|          1|            null|         1|2007|             2.0|\n",
      "+------------+--------------------+-----------+--------------------+-----+--------------------+---------+-----+--------------------+-----------+----------------+----------+----+----------------+\n",
      "\n"
     ]
    }
   ],
   "source": [
    "itPostsDFWithRatio.where(itPostsDFWithRatio['score_div_answer'].isNotNull()).show()"
   ]
  },
  {
   "cell_type": "code",
   "execution_count": 37,
   "metadata": {
    "collapsed": false
   },
   "outputs": [
    {
     "name": "stdout",
     "output_type": "stream",
     "text": [
      "+------------+--------------------+-----------+--------------------+-----+--------------------+---------+-----+--------------------+-----------+----------------+----------+----+----------------+\n",
      "|commentCount|    lastActivityDate|ownerUserId|                body|score|        creationDate|viewCount|title|                tags|answerCount|acceptedAnswerId|postTypeId|  id|score_div_answer|\n",
      "+------------+--------------------+-----------+--------------------+-----+--------------------+---------+-----+--------------------+-----------+----------------+----------+----+----------------+\n",
      "|           0|2014-06-06 13:18:...|        674|&lt;p&gt;Ad occhi...|    5|2014-06-06 13:18:...|     null| null|                    |       null|            null|         2|2009|            null|\n",
      "|           3|2014-06-07 12:11:...|        676|&lt;p&gt;&quot;sp...|    0|2014-06-06 12:29:...|     null| null|                    |       null|            null|         2|2008|            null|\n",
      "|           1|2014-07-02 19:39:...|        223|&lt;p&gt;Un chimi...|    2|2014-06-06 11:34:...|       45| null|&lt;word-usage&gt...|          1|            null|         1|2007|             2.0|\n",
      "|           0|2014-06-05 13:52:...|         37|&lt;p&gt;âCa.â...|    8|2014-06-05 13:52:...|     null| null|                    |       null|            null|         2|2006|            null|\n",
      "|           8|2014-06-14 07:37:...|        223|&lt;p&gt;Mi Ã¨ st...|    2|2014-06-05 12:04:...|      104| null|&lt;word-usage&gt...|          1|            2006|         1|2005|             2.0|\n",
      "|           1|2014-06-04 23:29:...|         70|&lt;p&gt;In itali...|    8|2014-06-04 23:29:...|     null| null|                    |       null|            null|         2|2004|            null|\n",
      "|           3|2014-06-04 23:27:...|        193|&lt;p&gt;La rispo...|    6|2014-06-04 23:27:...|     null| null|                    |       null|            null|         2|2003|            null|\n",
      "|           1|2014-06-04 22:18:...|        674|&lt;p&gt;I am fro...|    3|2014-06-04 22:18:...|     null| null|                    |       null|            null|         2|2002|            null|\n",
      "|           5|2014-06-04 21:56:...|        674|&lt;p&gt;Sardinia...|    2|2014-06-04 21:56:...|     null| null|                    |       null|            null|         2|2001|            null|\n",
      "+------------+--------------------+-----------+--------------------+-----+--------------------+---------+-----+--------------------+-----------+----------------+----------+----+----------------+\n",
      "\n"
     ]
    }
   ],
   "source": [
    "itPostsDFWithRatio.sort(\"id\", ascending=0).show()\n",
    "# same as ..\n",
    "#itPostsDFWithRatio.orderBy(\"id\", ascending=0).show()"
   ]
  },
  {
   "cell_type": "code",
   "execution_count": null,
   "metadata": {
    "collapsed": true
   },
   "outputs": [],
   "source": []
  }
 ],
 "metadata": {
  "anaconda-cloud": {},
  "kernelspec": {
   "display_name": "Python [Root]",
   "language": "python",
   "name": "Python [Root]"
  },
  "language_info": {
   "codemirror_mode": {
    "name": "ipython",
    "version": 2
   },
   "file_extension": ".py",
   "mimetype": "text/x-python",
   "name": "python",
   "nbconvert_exporter": "python",
   "pygments_lexer": "ipython2",
   "version": "2.7.12"
  }
 },
 "nbformat": 4,
 "nbformat_minor": 0
}
