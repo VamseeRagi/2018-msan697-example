{
 "cells": [
  {
   "cell_type": "code",
   "execution_count": 1,
   "metadata": {
    "collapsed": true
   },
   "outputs": [],
   "source": [
    "from pyspark import SparkContext\n",
    "sc = SparkContext.getOrCreate()\n",
    "sqlContext = SQLContext(sc)"
   ]
  },
  {
   "cell_type": "code",
   "execution_count": 4,
   "metadata": {
    "collapsed": false
   },
   "outputs": [],
   "source": [
    "itPostsRows = sc.textFile(\"../Data/Italian_Stack_Exchange/italianPosts.csv\")\n",
    "itPostsSplit = itPostsRows.map(lambda x: x.split(\"~\"))\n",
    "from pyspark.sql import Row\n",
    "from datetime import datetime\n",
    "def toIntSafe(inval):\n",
    "  try:\n",
    "    return int(inval)\n",
    "  except ValueError:\n",
    "    return None\n",
    "\n",
    "def toTimeSafe(inval):\n",
    "  try:\n",
    "    return datetime.strptime(inval, \"%Y-%m-%d %H:%M:%S.%f\")\n",
    "  except ValueError:\n",
    "    return None\n",
    "\n",
    "def toLongSafe(inval):\n",
    "  try:\n",
    "    return long(inval)\n",
    "  except ValueError:\n",
    "    return None\n",
    "    \n",
    "def stringToPost(row):\n",
    "  r = row.encode('utf8').split(\"~\")\n",
    "  return Row(\n",
    "    toIntSafe(r[0]),\n",
    "    toTimeSafe(r[1]),\n",
    "    toIntSafe(r[2]),\n",
    "    r[3],\n",
    "    toIntSafe(r[4]),\n",
    "    toTimeSafe(r[5]),\n",
    "    toIntSafe(r[6]),\n",
    "    toIntSafe(r[7]),\n",
    "    r[8],\n",
    "    toIntSafe(r[9]),\n",
    "    toLongSafe(r[10]),\n",
    "    toLongSafe(r[11]),\n",
    "    long(r[12]))\n",
    "from pyspark.sql.types import *\n",
    "postSchema = StructType([\n",
    "  StructField(\"commentCount\", IntegerType(), True),\n",
    "  StructField(\"lastActivityDate\", TimestampType(), True),\n",
    "  StructField(\"ownerUserId\", LongType(), True),\n",
    "  StructField(\"body\", StringType(), True),\n",
    "  StructField(\"score\", IntegerType(), True),\n",
    "  StructField(\"creationDate\", TimestampType(), True),\n",
    "  StructField(\"viewCount\", IntegerType(), True),\n",
    "  StructField(\"title\", StringType(), True),\n",
    "  StructField(\"tags\", StringType(), True),\n",
    "  StructField(\"answerCount\", IntegerType(), True),\n",
    "  StructField(\"acceptedAnswerId\", LongType(), True),\n",
    "  StructField(\"postTypeId\", LongType(), True),\n",
    "  StructField(\"id\", LongType(), False)\n",
    "  ])\n",
    "rowRDD = itPostsRows.map(lambda x: stringToPost(x))\n",
    "itPostsDFStruct = sqlContext.createDataFrame(rowRDD, postSchema)"
   ]
  },
  {
   "cell_type": "code",
   "execution_count": 5,
   "metadata": {
    "collapsed": false
   },
   "outputs": [
    {
     "name": "stdout",
     "output_type": "stream",
     "text": [
      "+------------+--------------------+-----------+--------------------+-----+--------------------+---------+-----+--------------------+-----------+----------------+----------+----+--------+\n",
      "|commentCount|    lastActivityDate|ownerUserId|                body|score|        creationDate|viewCount|title|                tags|answerCount|acceptedAnswerId|postTypeId|  id|duration|\n",
      "+------------+--------------------+-----------+--------------------+-----+--------------------+---------+-----+--------------------+-----------+----------------+----------+----+--------+\n",
      "|           3|2014-09-11 14:37:...|         63|&lt;p&gt;The plur...|    5|2013-11-12 13:34:...|       59| null|&lt;plural&gt;&lt...|          1|            1227|         1|1221|     303|\n",
      "|           4|2014-09-09 08:54:...|         63|&lt;p&gt;Some wor...|    4|2013-11-12 11:03:...|       80| null|&lt;nouns&gt;&lt;...|          2|            1207|         1|1205|     301|\n",
      "|           0|2014-09-12 10:55:...|          8|&lt;p&gt;Wikipedi...|   10|2013-11-20 16:42:...|      145| null|&lt;orthography&g...|          5|            1336|         1|1321|     296|\n",
      "|           0|2014-08-31 20:19:...|         12|&lt;p&gt;Giulia e...|    5|2013-11-12 12:04:...|      610| null|&lt;grammar&gt;&l...|          4|            null|         1|1211|     292|\n",
      "|           3|2014-08-24 16:01:...|        114|&lt;p&gt;Is the p...|   10|2013-11-06 22:12:...|       88| null|&lt;grammar&gt;&l...|          1|              77|         1|  75|     291|\n",
      "|           5|2014-09-05 21:35:...|         12|&lt;p&gt;Soprattu...|    3|2013-11-23 14:54:...|      249| null|&lt;grammar&gt;&l...|          7|            null|         1|1369|     286|\n",
      "|           2|2014-08-19 15:39:...|         12|&lt;p&gt;Quando s...|    4|2013-11-11 18:52:...|      149| null|&lt;idioms&gt;&lt...|          2|            null|         1|1187|     281|\n",
      "|           0|2014-08-12 12:47:...|        124|&lt;p&gt;When do ...|    4|2013-11-07 17:43:...|      139| null| &lt;word-choice&gt;|          3|              88|         1|  86|     278|\n",
      "|           1|2014-08-18 18:06:...|         12|&lt;p&gt;SÃ¬, ho ...|    3|2013-11-13 19:04:...|      114| null|&lt;grammar&gt;&l...|          2|            null|         1|1254|     278|\n",
      "|           0|2014-08-31 20:18:...|        230|&lt;p&gt;Ã entra...|    2|2013-11-27 10:50:...|     null| null|                    |       null|            null|         2|1404|     277|\n",
      "|           2|2014-08-14 17:11:...|         99|&lt;p&gt;Is it ma...|    7|2013-11-12 14:11:...|      163| null|&lt;word-choice&g...|          2|            1228|         1|1224|     275|\n",
      "|           1|2014-08-30 14:22:...|         77|&lt;p&gt;When I w...|    7|2013-11-28 09:35:...|      158| null|&lt;word-choice&g...|          3|            null|         1|1412|     275|\n",
      "|           1|2014-08-14 13:13:...|         12|&lt;p&gt;When I s...|    5|2013-11-16 09:36:...|       74| null|&lt;regional&gt;&...|          3|            null|         1|1279|     271|\n",
      "|           0|2014-08-27 00:16:...|         22|Questions about g...|    0|2013-11-30 09:01:...|     null| null|                    |       null|            null|         4|1425|     270|\n",
      "|           0|2014-08-27 00:42:...|         22|Questions about c...|    0|2013-11-30 09:02:...|     null| null|                    |       null|            null|         4|1427|     270|\n",
      "|           0|2014-08-27 00:42:...|         22|&lt;p&gt;Use this...|    0|2013-11-30 09:02:...|     null| null|                    |       null|            null|         5|1426|     270|\n",
      "|           0|2014-08-27 00:16:...|         22|&lt;p&gt;This tag...|    0|2013-11-30 09:01:...|     null| null|                    |       null|            null|         5|1424|     270|\n",
      "|           0|2014-07-26 19:17:...|         12|&lt;p&gt;What's t...|    6|2013-11-05 21:30:...|       92| null|&lt;grammar&gt;&l...|          1|            null|         1|  11|     263|\n",
      "|           6|2014-07-26 02:14:...|         63|&lt;p&gt;Are &lt;...|    7|2013-11-06 17:03:...|       77| null|&lt;word-choice&g...|          2|              60|         1|  58|     262|\n",
      "|           0|2014-08-07 07:00:...|         17|&lt;p&gt;They are...|    3|2013-11-22 21:56:...|     null| null|                    |       null|            null|         2|1361|     258|\n",
      "+------------+--------------------+-----------+--------------------+-----+--------------------+---------+-----+--------------------+-----------+----------------+----------+----+--------+\n",
      "only showing top 20 rows\n",
      "\n"
     ]
    }
   ],
   "source": [
    "from pyspark.sql.functions import *\n",
    "itPostsDFStruct.withColumn('duration',datediff('lastActivityDate','creationDate')).sort('duration', ascending = 0).show()"
   ]
  },
  {
   "cell_type": "code",
   "execution_count": 6,
   "metadata": {
    "collapsed": false
   },
   "outputs": [
    {
     "name": "stdout",
     "output_type": "stream",
     "text": [
      "+-----------+-----------------+\n",
      "|ownerUserId|       avg(score)|\n",
      "+-----------+-----------------+\n",
      "|          6|             15.0|\n",
      "|        570|             15.0|\n",
      "|        730|             12.0|\n",
      "|        729|             11.0|\n",
      "|        154|             11.0|\n",
      "|        217|             10.0|\n",
      "|        220|             10.0|\n",
      "|        656|              9.0|\n",
      "|        445|              9.0|\n",
      "|        116|              9.0|\n",
      "|         48|8.666666666666666|\n",
      "|        114|              8.5|\n",
      "|        124|8.333333333333334|\n",
      "|         57|              8.3|\n",
      "|        590|              8.0|\n",
      "|         85|              8.0|\n",
      "|        504|              8.0|\n",
      "|        158|              8.0|\n",
      "|         17|7.967741935483871|\n",
      "|         56|              7.8|\n",
      "+-----------+-----------------+\n",
      "only showing top 20 rows\n",
      "\n"
     ]
    }
   ],
   "source": [
    "itPostsDFStruct.groupBy('ownerUserId').avg('score').sort('avg(score)', ascending=0).show()"
   ]
  },
  {
   "cell_type": "code",
   "execution_count": 7,
   "metadata": {
    "collapsed": false
   },
   "outputs": [
    {
     "data": {
      "text/plain": [
       "DataFrame[ownerUserId: bigint, avg(score): double]"
      ]
     },
     "execution_count": 7,
     "metadata": {},
     "output_type": "execute_result"
    }
   ],
   "source": [
    "itPostsDFStruct.groupBy('ownerUserId').avg('score').sort('avg(score)', ascending=0)"
   ]
  },
  {
   "cell_type": "code",
   "execution_count": null,
   "metadata": {
    "collapsed": true
   },
   "outputs": [],
   "source": []
  }
 ],
 "metadata": {
  "anaconda-cloud": {},
  "kernelspec": {
   "display_name": "Python [Root]",
   "language": "python",
   "name": "Python [Root]"
  },
  "language_info": {
   "codemirror_mode": {
    "name": "ipython",
    "version": 2
   },
   "file_extension": ".py",
   "mimetype": "text/x-python",
   "name": "python",
   "nbconvert_exporter": "python",
   "pygments_lexer": "ipython2",
   "version": "2.7.12"
  }
 },
 "nbformat": 4,
 "nbformat_minor": 0
}
