{
 "cells": [
  {
   "cell_type": "code",
   "execution_count": 1,
   "metadata": {
    "collapsed": true
   },
   "outputs": [],
   "source": [
    "from pyspark import SparkContext\n",
    "sc = SparkContext.getOrCreate()\n",
    "sqlContext = SQLContext(sc)"
   ]
  },
  {
   "cell_type": "code",
   "execution_count": 2,
   "metadata": {
    "collapsed": false
   },
   "outputs": [],
   "source": [
    "world_bank_prj = spark.read.json(\"s3n://usfca-msan694/world_bank_project.json\")"
   ]
  },
  {
   "cell_type": "code",
   "execution_count": 4,
   "metadata": {
    "collapsed": false
   },
   "outputs": [
    {
     "name": "stdout",
     "output_type": "stream",
     "text": [
      "root\n",
      " |-- _id: struct (nullable = true)\n",
      " |    |-- $oid: string (nullable = true)\n",
      " |-- approvalfy: string (nullable = true)\n",
      " |-- board_approval_month: string (nullable = true)\n",
      " |-- boardapprovaldate: string (nullable = true)\n",
      " |-- borrower: string (nullable = true)\n",
      " |-- closingdate: string (nullable = true)\n",
      " |-- country_namecode: string (nullable = true)\n",
      " |-- countrycode: string (nullable = true)\n",
      " |-- countryname: string (nullable = true)\n",
      " |-- countryshortname: string (nullable = true)\n",
      " |-- docty: string (nullable = true)\n",
      " |-- envassesmentcategorycode: string (nullable = true)\n",
      " |-- grantamt: long (nullable = true)\n",
      " |-- ibrdcommamt: long (nullable = true)\n",
      " |-- id: string (nullable = true)\n",
      " |-- idacommamt: long (nullable = true)\n",
      " |-- impagency: string (nullable = true)\n",
      " |-- lendinginstr: string (nullable = true)\n",
      " |-- lendinginstrtype: string (nullable = true)\n",
      " |-- lendprojectcost: long (nullable = true)\n",
      " |-- majorsector_percent: array (nullable = true)\n",
      " |    |-- element: struct (containsNull = true)\n",
      " |    |    |-- Name: string (nullable = true)\n",
      " |    |    |-- Percent: long (nullable = true)\n",
      " |-- mjsector_namecode: array (nullable = true)\n",
      " |    |-- element: struct (containsNull = true)\n",
      " |    |    |-- code: string (nullable = true)\n",
      " |    |    |-- name: string (nullable = true)\n",
      " |-- mjtheme: array (nullable = true)\n",
      " |    |-- element: string (containsNull = true)\n",
      " |-- mjtheme_namecode: array (nullable = true)\n",
      " |    |-- element: struct (containsNull = true)\n",
      " |    |    |-- code: string (nullable = true)\n",
      " |    |    |-- name: string (nullable = true)\n",
      " |-- mjthemecode: string (nullable = true)\n",
      " |-- prodline: string (nullable = true)\n",
      " |-- prodlinetext: string (nullable = true)\n",
      " |-- productlinetype: string (nullable = true)\n",
      " |-- project_abstract: struct (nullable = true)\n",
      " |    |-- cdata: string (nullable = true)\n",
      " |-- project_name: string (nullable = true)\n",
      " |-- projectdocs: array (nullable = true)\n",
      " |    |-- element: struct (containsNull = true)\n",
      " |    |    |-- DocDate: string (nullable = true)\n",
      " |    |    |-- DocType: string (nullable = true)\n",
      " |    |    |-- DocTypeDesc: string (nullable = true)\n",
      " |    |    |-- DocURL: string (nullable = true)\n",
      " |    |    |-- EntityID: string (nullable = true)\n",
      " |-- projectfinancialtype: string (nullable = true)\n",
      " |-- projectstatusdisplay: string (nullable = true)\n",
      " |-- regionname: string (nullable = true)\n",
      " |-- sector: array (nullable = true)\n",
      " |    |-- element: struct (containsNull = true)\n",
      " |    |    |-- Name: string (nullable = true)\n",
      " |-- sector1: struct (nullable = true)\n",
      " |    |-- Name: string (nullable = true)\n",
      " |    |-- Percent: long (nullable = true)\n",
      " |-- sector2: struct (nullable = true)\n",
      " |    |-- Name: string (nullable = true)\n",
      " |    |-- Percent: long (nullable = true)\n",
      " |-- sector3: struct (nullable = true)\n",
      " |    |-- Name: string (nullable = true)\n",
      " |    |-- Percent: long (nullable = true)\n",
      " |-- sector4: struct (nullable = true)\n",
      " |    |-- Name: string (nullable = true)\n",
      " |    |-- Percent: long (nullable = true)\n",
      " |-- sector_namecode: array (nullable = true)\n",
      " |    |-- element: struct (containsNull = true)\n",
      " |    |    |-- code: string (nullable = true)\n",
      " |    |    |-- name: string (nullable = true)\n",
      " |-- sectorcode: string (nullable = true)\n",
      " |-- source: string (nullable = true)\n",
      " |-- status: string (nullable = true)\n",
      " |-- supplementprojectflg: string (nullable = true)\n",
      " |-- theme1: struct (nullable = true)\n",
      " |    |-- Name: string (nullable = true)\n",
      " |    |-- Percent: long (nullable = true)\n",
      " |-- theme_namecode: array (nullable = true)\n",
      " |    |-- element: struct (containsNull = true)\n",
      " |    |    |-- code: string (nullable = true)\n",
      " |    |    |-- name: string (nullable = true)\n",
      " |-- themecode: string (nullable = true)\n",
      " |-- totalamt: long (nullable = true)\n",
      " |-- totalcommamt: long (nullable = true)\n",
      " |-- url: string (nullable = true)\n",
      "\n"
     ]
    }
   ],
   "source": [
    "world_bank_prj.printSchema()"
   ]
  },
  {
   "cell_type": "code",
   "execution_count": 3,
   "metadata": {
    "collapsed": false
   },
   "outputs": [
    {
     "name": "stdout",
     "output_type": "stream",
     "text": [
      "+--------------------+----------+--------------------+--------------------+--------------------+--------------------+--------------------+-----------+--------------------+------------------+--------------------+------------------------+--------+-----------+-------+----------+--------------------+--------------------+----------------+---------------+--------------------+--------------------+--------------------+--------------------+-----------+--------+--------------------+---------------+--------------------+--------------------+--------------------+--------------------+--------------------+--------------------+--------------------+--------------------+--------------------+--------------------+--------------------+--------------------+--------------+------+------+--------------------+--------------------+--------------------+--------------+---------+------------+--------------------+\n",
      "|                 _id|approvalfy|board_approval_month|   boardapprovaldate|            borrower|         closingdate|    country_namecode|countrycode|         countryname|  countryshortname|               docty|envassesmentcategorycode|grantamt|ibrdcommamt|     id|idacommamt|           impagency|        lendinginstr|lendinginstrtype|lendprojectcost| majorsector_percent|   mjsector_namecode|             mjtheme|    mjtheme_namecode|mjthemecode|prodline|        prodlinetext|productlinetype|    project_abstract|        project_name|         projectdocs|projectfinancialtype|projectstatusdisplay|          regionname|              sector|             sector1|             sector2|             sector3|             sector4|     sector_namecode|    sectorcode|source|status|supplementprojectflg|              theme1|      theme_namecode|     themecode| totalamt|totalcommamt|                 url|\n",
      "+--------------------+----------+--------------------+--------------------+--------------------+--------------------+--------------------+-----------+--------------------+------------------+--------------------+------------------------+--------+-----------+-------+----------+--------------------+--------------------+----------------+---------------+--------------------+--------------------+--------------------+--------------------+-----------+--------+--------------------+---------------+--------------------+--------------------+--------------------+--------------------+--------------------+--------------------+--------------------+--------------------+--------------------+--------------------+--------------------+--------------------+--------------+------+------+--------------------+--------------------+--------------------+--------------+---------+------------+--------------------+\n",
      "|[52b213b38594d8a2...|      1999|            November|2013-11-12T00:00:00Z|FEDERAL DEMOCRATI...|2018-07-07T00:00:00Z|Federal Democrati...|         ET|Federal Democrati...|          Ethiopia|Project Informati...|                       C|       0|          0|P129828| 130000000|MINISTRY OF EDUCA...|Investment Projec...|              IN|      550000000|[[Education,46], ...|[[EX,Education], ...| [Human development]|[[8,Human develop...|       8,11|      PE|            IBRD/IDA|              L|[The development ...|Ethiopia General ...|[[28-AUG-2013,PID...|                 IDA|              Active|              Africa|[[Primary educati...|[Primary educatio...|[Secondary educat...|[Public administr...|[Tertiary educati...|[[EP,Primary educ...|   ET,BS,ES,EP|  IBRD|Active|                   N|[Education for al...|[[65,Education fo...|            65|130000000|   130000000|http://www.worldb...|\n",
      "|[52b213b38594d8a2...|      2015|            November|2013-11-04T00:00:00Z|GOVERNMENT OF TUN...|                null|Republic of Tunis...|         TN| Republic of Tunisia|           Tunisia|Project Informati...|                       C| 4700000|          0|P144674|         0| MINISTRY OF FINANCE|Specific Investme...|              IN|        5700000|[[Public Administ...|[[BX,Public Admin...|[Economic managem...|[[1,Economic mana...|        1,6|      RE|Recipient Execute...|              L|                null|TN: DTF Social Pr...|[[29-MAR-2013,PID...|               OTHER|              Active|Middle East and N...|[[Public administ...|[Public administr...|[General public a...|                null|                null|[[BS,Public admin...|         BZ,BS|  IBRD|Active|                   N|[Other economic m...|[[24,Other econom...|         54,24|        0|     4700000|http://www.worldb...|\n",
      "|[52b213b38594d8a2...|      2014|            November|2013-11-01T00:00:00Z|MINISTRY OF FINAN...|                null|         Tuvalu!$!TV|         TV|              Tuvalu|            Tuvalu|Resettlement Plan...|                       B|       0|          0|P145310|   6060000|MINISTRY OF TRANS...|Investment Projec...|              IN|        6060000|[[Transportation,...|[[TX,Transportati...|[Trade and integr...|[[5,Trade and int...|   5,2,11,6|      PE|            IBRD/IDA|              L|                null|Tuvalu Aviation I...|[[21-OCT-2013,RPL...|                 IDA|              Active|East Asia and Pac...|[[Rural and Inter...|[Rural and Inter-...|                null|                null|                null|[[TI,Rural and In...|            TI|  IBRD|Active|                   Y|[Regional integra...|[[47,Regional int...|   52,81,25,47|  6060000|     6060000|http://www.worldb...|\n",
      "|[52b213b38594d8a2...|      2014|             October|2013-10-31T00:00:00Z|MIN. OF PLANNING ...|                null|Republic of Yemen...|         RY|   Republic of Yemen|Yemen, Republic of|Procurement Plan,...|                       C| 1500000|          0|P144665|         0|LABOR INTENSIVE P...|Technical Assista...|              IN|        1500000|[[Health and othe...|[[JX,Health and o...|[Social dev/gende...|[[7,Social dev/ge...|        7,7|      RE|Recipient Execute...|              L|                null|Gov't and Civil S...|[[15-MAY-2013,PRO...|               OTHER|              Active|Middle East and N...|[[Other social se...|[Other social ser...|                null|                null|                null|[[JB,Other social...|            JB|  IBRD|Active|                   N|[Participation an...|[[57,Participatio...|         59,57|        0|     1500000|http://www.worldb...|\n",
      "|[52b213b38594d8a2...|      2014|             October|2013-10-31T00:00:00Z| MINISTRY OF FINANCE|2019-04-30T00:00:00Z|Kingdom of Lesoth...|         LS|  Kingdom of Lesotho|           Lesotho|Project Informati...|                       B|       0|          0|P144933|  13100000|MINISTRY OF TRADE...|Investment Projec...|              IN|       15000000|[[Industry and tr...|[[YX,Industry and...|[Trade and integr...|[[5,Trade and int...|        5,4|      PE|            IBRD/IDA|              L|[The development ...|Second Private Se...|[[06-SEP-2013,PID...|                 IDA|              Active|              Africa|[[General industr...|[General industry...| [Other industry,40]|    [SME Finance,10]|                null|[[YZ,General indu...|      FH,YW,YZ|  IBRD|Active|                   N|[Export developme...|[[45,Export devel...|         41,45| 13100000|    13100000|http://www.worldb...|\n",
      "|[52b213b38594d8a2...|      2014|             October|2013-10-31T00:00:00Z|   REPUBLIC OF KENYA|                null|Republic of Kenya...|         KE|   Republic of Kenya|             Kenya|Integrated Safegu...|                       C|       0|          0|P146161|  10000000|                null|Investment Projec...|              IN|       66400000|[[Health and othe...|[[JX,Health and o...|[Social protectio...|[[6,Social protec...|        6,6|      PE|            IBRD/IDA|              L|                null|Additional Financ...|[[16-SEP-2013,ISD...|                 IDA|              Active|              Africa|[[Other social se...|[Other social ser...|                null|                null|                null|[[JB,Other social...|            JB|  IBRD|Active|                   Y|[Social safety ne...|[[54,Social safet...|            54| 10000000|    10000000|http://www.worldb...|\n",
      "|[52b213b38594d8a2...|      2014|             October|2013-10-29T00:00:00Z| GOVERNMENT OF INDIA|2019-06-30T00:00:00Z|Republic of India...|         IN|   Republic of India|             India|Project Appraisal...|                       A|       0|  500000000|P121185|         0|MINISTRY OF ROAD ...|Specific Investme...|              IN|     1146050000|[[Transportation,...|[[TX,Transportati...|[Public sector go...|[[2,Public sector...|        2,4|      PE|            IBRD/IDA|              L|[The development ...|National Highways...|[[02-OCT-2013,PAD...|                IBRD|              Active|          South Asia|[[Rural and Inter...|[Rural and Inter-...|                null|                null|                null|[[TI,Rural and In...|            TI|  IBRD|Active|                   N|[Administrative a...|[[25,Administrati...|         39,25|500000000|   500000000|http://www.worldb...|\n",
      "|[52b213b38594d8a2...|      2014|             October|2013-10-29T00:00:00Z|PEOPLE'S REPUBLIC...|                null|People's Republic...|         CN|People's Republic...|             China|Project Appraisal...|                       C|27280000|          0|P127033|         0|NATIONAL ENERGY A...|Investment Projec...|              IN|       27280000|[[Energy and mini...|[[LX,Energy and m...|[Environment and ...|[[11,Environment ...|       11,8|      GE|Global Environmen...|              L|[The development ...|China Renewable E...|[[18-SEP-2013,PAD...|               OTHER|              Active|East Asia and Pac...|[[Other Renewable...|[Other Renewable ...|                null|                null|                null|[[LR,Other Renewa...|            LR|  IBRD|Active|                   N|[Climate change,100]|[[81,Climate chan...|            81|        0|    27280000|http://www.worldb...|\n",
      "|[52b213b38594d8a2...|      2014|             October|2013-10-29T00:00:00Z|THE GOVERNMENT OF...|2018-12-31T00:00:00Z|Republic of India...|         IN|   Republic of India|             India|Project Appraisal...|                       B|       0|          0|P130164| 160000000|PUBLIC WORKS DEPA...|Specific Investme...|              IN|      227000000|[[Transportation,...|[[TX,Transportati...| [Rural development]|[[10,Rural develo...|       10,7|      PE|            IBRD/IDA|              L|[The development ...|Rajasthan Road Se...|[[01-OCT-2013,PAD...|                 IDA|              Active|          South Asia|[[Rural and Inter...|[Rural and Inter-...|                null|                null|                null|[[TI,Rural and In...|            TI|  IBRD|Active|                   N|[Other rural deve...|[[79,Other rural ...|            79|160000000|   160000000|http://www.worldb...|\n",
      "|[52b213b38594d8a2...|      2014|             October|2013-10-29T00:00:00Z|THE KINGDOM OF MO...|2014-12-31T00:00:00Z|Kingdom of Morocc...|         MA|  Kingdom of Morocco|           Morocco|Program Document,...|                    null|       0|  200000000|P130903|         0| MINISTRY OF FINANCE|Development Polic...|              AD|      200000000|[[Public Administ...|[[BX,Public Admin...|[Public sector go...|[[2,Public sector...|      2,2,2|      PE|            IBRD/IDA|              L|[The objective of...|MA Accountability...|[[30-SEP-2013,PGD...|                IBRD|              Active|Middle East and N...|[[General public ...|[General public a...|[Central governme...|[Public administr...|                null|[[BZ,General publ...|      BM,BC,BZ|  IBRD|Active|                   N|[Other accountabi...|[[29,Other accoun...|      27,30,29|200000000|   200000000|http://www.worldb...|\n",
      "|[52b213b38594d8a2...|      2014|             October|2013-10-25T00:00:00Z|GOVERNMENT OF SOU...|                null|Republic of South...|         SS|Republic of South...|       South Sudan|Project Paper,Pro...|                       B| 7530000|          0|P145339|         0|MINISTRY OF AGRIC...|Specific Investme...|              IN|        7530000|[[Agriculture, fi...|[[AX,Agriculture,...| [Rural development]|[[10,Rural develo...|       10,2|      RE|Recipient Execute...|              L|[The development ...|Southern Sudan Em...|[[01-OCT-2013,PJP...|               OTHER|              Active|              Africa|[[Crops], [Other ...|          [Crops,50]|[Other social ser...|[General agricult...|                null|[[AH,Crops], [JB,...|      AZ,JB,AH|  IBRD|Active|                   Y|[Global food cris...|[[91,Global food ...|            91|        0|     7530000|http://www.worldb...|\n",
      "|[52b213b38594d8a2...|      2014|             October|2013-10-25T00:00:00Z|                null|2017-12-31T00:00:00Z|Republic of India...|         IN|   Republic of India|             India|Project Appraisal...|                       B|       0|          0|P146653| 250000000|                null|Investment Projec...|              IN|      250000000|[[Transportation,...|[[TX,Transportati...|[Rural developmen...|[[10,Rural develo...|  10,6,6,11|      PE|            IBRD/IDA|              L|[The objective of...|Uttarakhand Disas...|[[11-OCT-2013,PAD...|                 IDA|              Active|          South Asia|[[Rural and Inter...|[Rural and Inter-...|[Flood protection...|[Housing construc...|[Other social ser...|[[TI,Rural and In...|   JB,YC,WD,TI|  IBRD|Active|                   N|[Rural services a...|[[78,Rural servic...|   81,87,52,78|250000000|   250000000|http://www.worldb...|\n",
      "|[52b213b38594d8a2...|      2014|             October|2013-10-24T00:00:00Z| GOVERNMENT OF GHANA|2019-06-30T00:00:00Z|Republic of Ghana...|         GH|   Republic of Ghana|             Ghana|Project Appraisal...|                       C|       0|          0|P144140|  97000000|MINISTRY OF COMMU...|Specific Investme...|              IN|       97000000|[[Information and...|[[CX,Information ...|                null|              [[4,]]|          4|      PE|            IBRD/IDA|              L|[The development ...| GH eTransform Ghana|[[26-SEP-2013,PAD...|                 IDA|              Active|              Africa|[[General informa...|[General informat...|                null|                null|                null|[[CZ,General info...|            CZ|  IBRD|Active|                   N|                [,0]|                null|          null| 97000000|    97000000|http://www.worldb...|\n",
      "|[52b213b38594d8a2...|      2014|             October|2013-10-22T00:00:00Z|GOVERNMENT OF TIM...|                null|Democratic Republ...|         TP|Democratic Republ...|       Timor-Leste|Integrated Safegu...|                       B|       0|   15000000|P130975|  25000000|MINISTRY OF INFRA...|Specific Investme...|              IN|       92000000|[[Transportation,...|[[TX,Transportati...|[Trade and integr...|[[5,Trade and int...|    5,11,10|      PE|            IBRD/IDA|              L|[The development ...|Timor Leste Road ...|[[11-SEP-2012,ISD...|                IBRD|              Active|East Asia and Pac...|[[Rural and Inter...|[Rural and Inter-...|[Public administr...|                null|                null|[[TI,Rural and In...|         BV,TI|  IBRD|Active|                   Y|[Regional integra...|[[47,Regional int...|      78,81,47| 40000000|    40000000|http://www.worldb...|\n",
      "|[52b213b38594d8a2...|      2014|             October|2013-10-22T00:00:00Z|GOVERNMENT OF JORDAN|                null|Hashemite Kingdom...|         JO|Hashemite Kingdom...|            Jordan|                null|                       C| 9500000|          0|P144832|         0|MINISTRY OF PLANN...|Technical Assista...|              IN|       10000000|[[Health and othe...|[[JX,Health and o...|[Social protectio...|[[6,Social protec...|      6,6,6|      RE|Recipient Execute...|              L|                null|NATIONAL UNIFIED ...|                null|               OTHER|              Active|Middle East and N...|[[Other social se...|[Other social ser...|                null|                null|                null|[[JB,Other social...|            JB|  IBRD|Active|                   N|[Social safety ne...|[[54,Social safet...|      53,56,54|        0|     9500000|http://www.worldb...|\n",
      "|[52b213b38594d8a2...|      2014|             October|2013-10-17T00:00:00Z| MINISTRY OF FINANCE|2019-04-30T00:00:00Z|          Samoa!$!WS|         WS|               Samoa|             Samoa|Environmental Ass...|                       B|       0|          0|P145545|  20000000|LAND TRANSPORT AU...|Investment Projec...|              IN|       20000000|[[Transportation,...|[[TX,Transportati...|[Rural developmen...|[[10,Rural develo...|    10,11,5|      PE|            IBRD/IDA|              L|[The development ...|Enhanced Road Acc...|[[21-AUG-2013,EA,...|                 IDA|              Active|East Asia and Pac...|[[Rural and Inter...|[Rural and Inter-...|                null|                null|                null|[[TI,Rural and In...|            TI|  IBRD|Active|                   N|[Rural services a...|[[78,Rural servic...|      49,81,78| 20000000|    20000000|http://www.worldb...|\n",
      "|[52b213b38594d8a2...|      2014|             October|2013-10-17T00:00:00Z| MINISTRY OF FINANCE|2015-12-31T00:00:00Z|          Samoa!$!WS|         WS|               Samoa|             Samoa|Project Appraisal...|                       B|       0|          0|P145938|   5000000|MINISTRY OF AGRIC...|Investment Projec...|              IN|        5000000|[[Agriculture, fi...|[[AX,Agriculture,...| [Rural development]|[[10,Rural develo...|       10,2|      PE|            IBRD/IDA|              L|[The development ...|Samoa Agriculture...|[[19-SEP-2013,PAD...|                 IDA|              Active|East Asia and Pac...|[[Crops], [Animal...|          [Crops,50]|[Animal productio...|[General agricult...|                null|[[AH,Crops], [AJ,...|      AZ,AJ,AH|  IBRD|Active|                   N|[Other rural deve...|[[79,Other rural ...|            79|  5000000|     5000000|http://www.worldb...|\n",
      "|[52b213b38594d8a2...|      2014|             October|2013-10-16T00:00:00Z|MINISTRY OF FINAN...|                null|Republic of Madag...|         MG|Republic of Madag...|        Madagascar|Integrated Safegu...|                       B|85400000|          0|P132616|         0|MINISTRY OF EDUCA...|Emergency Recover...|              IN|       85400000|   [[Education,100]]|    [[EX,Education]]| [Human development]|[[8,Human develop...|        8,7|      RE|Recipient Execute...|              L|                null|Emergency Support...|[[21-SEP-2013,ISD...|               OTHER|              Active|              Africa|[[Primary educati...|[Primary educatio...|                null|                null|                null|[[EP,Primary educ...|            EP|  IBRD|Active|                   N|[Education for al...|[[65,Education fo...|            65|        0|    85400000|http://www.worldb...|\n",
      "|[52b213b38594d8a2...|      2014|             October|2013-10-16T00:00:00Z|ROYAL GOVERNMENT ...|                null|Kingdom of Cambod...|         KH| Kingdom of Cambodia|          Cambodia|Project Informati...|                       B|13450000|          0|P146271|         0|  MINISTRY OF HEALTH|Investment Projec...|              IN|       13450000|[[Health and othe...|[[JX,Health and o...|[Human developmen...|[[8,Human develop...|  8,8,2,7,8|      RE|Recipient Execute...|              L|                null|Additional Financ...|[[14-OCT-2013,PID...|               OTHER|              Active|East Asia and Pac...|[[Health], [Centr...|         [Health,44]|[Central governme...|[Sub-national gov...|[Other social ser...|[[JA,Health], [BC...|BK,JB,BH,BC,JA|  IBRD|Active|                   Y|   [Child health,17]|[[63,Child health...|69,57,25,67,63|        0|    13450000|http://www.worldb...|\n",
      "|[52b213b38594d8a2...|      2014|             October|2013-10-10T00:00:00Z| MINISTRY OF FINANCE|                null|Kingdom of Morocc...|         MA|  Kingdom of Morocco|           Morocco|Project Informati...|                       C| 4350000|          0|P143979|         0| MINISTRY OF FINANCE|Specific Investme...|              IN|        4550000|[[Public Administ...|[[BX,Public Admin...|[Public sector go...|[[2,Public sector...|      2,2,2|      RE|Recipient Execute...|              L|                null|DTF:MA- Support N...|[[23-JAN-2013,PID...|               OTHER|              Active|Middle East and N...|[[General public ...|[General public a...|[Central governme...|[Sub-national gov...|                null|[[BZ,General publ...|      BH,BC,BZ|  IBRD|Active|                   N|[Public expenditu...|[[27,Public expen...|      25,26,27|        0|     4350000|http://www.worldb...|\n",
      "+--------------------+----------+--------------------+--------------------+--------------------+--------------------+--------------------+-----------+--------------------+------------------+--------------------+------------------------+--------+-----------+-------+----------+--------------------+--------------------+----------------+---------------+--------------------+--------------------+--------------------+--------------------+-----------+--------+--------------------+---------------+--------------------+--------------------+--------------------+--------------------+--------------------+--------------------+--------------------+--------------------+--------------------+--------------------+--------------------+--------------------+--------------+------+------+--------------------+--------------------+--------------------+--------------+---------+------------+--------------------+\n",
      "only showing top 20 rows\n",
      "\n"
     ]
    }
   ],
   "source": [
    "world_bank_prj.show()"
   ]
  },
  {
   "cell_type": "code",
   "execution_count": null,
   "metadata": {
    "collapsed": true
   },
   "outputs": [],
   "source": []
  }
 ],
 "metadata": {
  "anaconda-cloud": {},
  "kernelspec": {
   "display_name": "Python [Root]",
   "language": "python",
   "name": "Python [Root]"
  },
  "language_info": {
   "codemirror_mode": {
    "name": "ipython",
    "version": 2
   },
   "file_extension": ".py",
   "mimetype": "text/x-python",
   "name": "python",
   "nbconvert_exporter": "python",
   "pygments_lexer": "ipython2",
   "version": "2.7.12"
  }
 },
 "nbformat": 4,
 "nbformat_minor": 0
}
