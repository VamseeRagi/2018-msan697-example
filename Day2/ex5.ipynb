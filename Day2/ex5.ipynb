{
 "cells": [
  {
   "cell_type": "code",
   "execution_count": 1,
   "metadata": {
    "collapsed": false
   },
   "outputs": [],
   "source": [
    "from pyspark import SparkContext\n",
    "sc = SparkContext.getOrCreate()\n",
    "sqlContext = SQLContext(sc)"
   ]
  },
  {
   "cell_type": "code",
   "execution_count": 2,
   "metadata": {
    "collapsed": false
   },
   "outputs": [],
   "source": [
    "itComentsRows = sc.textFile(\"../Data/Italian_Stack_Exchange/italianComments.csv\")\n",
    "itCommentsSplit = itComentsRows.map(lambda x : x.encode('utf8').split(\"~\"))"
   ]
  },
  {
   "cell_type": "code",
   "execution_count": 3,
   "metadata": {
    "collapsed": true
   },
   "outputs": [],
   "source": [
    "from pyspark.sql import Row\n",
    "from datetime import datetime\n",
    "\n",
    "def toTimeSafe(inval):\n",
    "  try:\n",
    "    return datetime.strptime(inval, \"%Y-%m-%d %H:%M:%S.%f\")\n",
    "  except ValueError:\n",
    "    return None"
   ]
  },
  {
   "cell_type": "code",
   "execution_count": 43,
   "metadata": {
    "collapsed": true
   },
   "outputs": [],
   "source": [
    "def stringToComment(r):\n",
    "  return Row(\n",
    "    long(r[0]),\n",
    "    toTimeSafe(r[1]),\n",
    "    r[2],\n",
    "    )"
   ]
  },
  {
   "cell_type": "code",
   "execution_count": 44,
   "metadata": {
    "collapsed": false
   },
   "outputs": [],
   "source": [
    "from pyspark.sql.types import *\n",
    "commentSchema = StructType([\n",
    "    StructField(\"id_\", LongType(), False),\n",
    "    StructField(\"commentDate\", TimestampType(), True),\n",
    "    StructField(\"comment\", StringType(), True),\n",
    "    ])"
   ]
  },
  {
   "cell_type": "code",
   "execution_count": 45,
   "metadata": {
    "collapsed": true
   },
   "outputs": [],
   "source": [
    "rowRDD = itCommentsSplit.map(lambda x: stringToComment(x))"
   ]
  },
  {
   "cell_type": "code",
   "execution_count": 46,
   "metadata": {
    "collapsed": false
   },
   "outputs": [],
   "source": [
    "itCommentsDFStruct = sqlContext.createDataFrame(rowRDD, commentSchema)"
   ]
  },
  {
   "cell_type": "code",
   "execution_count": 47,
   "metadata": {
    "collapsed": false
   },
   "outputs": [
    {
     "name": "stdout",
     "output_type": "stream",
     "text": [
      "root\n",
      " |-- id_: long (nullable = false)\n",
      " |-- commentDate: timestamp (nullable = true)\n",
      " |-- comment: string (nullable = true)\n",
      "\n"
     ]
    }
   ],
   "source": [
    "itCommentsDFStruct.printSchema()"
   ]
  },
  {
   "cell_type": "code",
   "execution_count": 48,
   "metadata": {
    "collapsed": false
   },
   "outputs": [
    {
     "name": "stdout",
     "output_type": "stream",
     "text": [
      "+---+--------------------+--------------------+\n",
      "|id_|         commentDate|             comment|\n",
      "+---+--------------------+--------------------+\n",
      "| 18|2013-11-05 20:39:...|It's going to be ...|\n",
      "|  6|2013-11-05 20:41:...|Why not &quot;IL ...|\n",
      "| 18|2013-11-05 20:43:...|    Yep, added that.|\n",
      "|  6|2013-11-05 20:45:...|La squadra Milan ...|\n",
      "|  6|2013-11-05 20:46:...|`ExamplesLa (squa...|\n",
      "| 17|2013-11-05 20:48:...|Actually, no. As ...|\n",
      "|  6|2013-11-05 20:52:...|Oh, c'mon: http:/...|\n",
      "| 18|2013-11-05 20:54:...|There's no citati...|\n",
      "| 12|2013-11-05 20:57:...|Se il genere dei ...|\n",
      "| 18|2013-11-05 21:02:...|E' un'eccezione: ...|\n",
      "| 12|2013-11-05 21:03:...|I agree with Dami...|\n",
      "| 17|2013-11-05 21:14:...|Agreed, even thou...|\n",
      "|  6|2013-11-05 21:15:...|@GabrielePetronel...|\n",
      "| 12|2013-11-05 21:15:...|+1, but, neverthe...|\n",
      "|  6|2013-11-05 21:17:...|@KyriakosKyritsis...|\n",
      "| 17|2013-11-05 21:18:...|@KyriakosKyritsis...|\n",
      "| 17|2013-11-05 21:21:...|*Il Cairo* Ã¨ il ...|\n",
      "|  5|2013-11-05 21:42:...|Conversely, Engli...|\n",
      "| 22|2013-11-05 21:50:...|Sure, this happen...|\n",
      "| 12|2013-11-05 22:20:...|'poterlo dire' sa...|\n",
      "+---+--------------------+--------------------+\n",
      "only showing top 20 rows\n",
      "\n"
     ]
    }
   ],
   "source": [
    "itCommentsDFStruct.show()"
   ]
  },
  {
   "cell_type": "code",
   "execution_count": 49,
   "metadata": {
    "collapsed": false
   },
   "outputs": [
    {
     "name": "stdout",
     "output_type": "stream",
     "text": [
      "+---+--------------------+--------------------+\n",
      "|id_|         commentDate|             comment|\n",
      "+---+--------------------+--------------------+\n",
      "|  5|2013-11-07 07:15:...|Very related ques...|\n",
      "|  5|2013-11-07 07:21:...|I would add that ...|\n",
      "| 57|2013-11-07 09:59:...|Nice quote! :D I ...|\n",
      "| 79|2013-11-07 10:34:...|Great question, I...|\n",
      "| 22|2013-11-07 10:55:...|That's indeed the...|\n",
      "|120|2013-11-07 12:08:...|Yes, exactly! Man...|\n",
      "| 70|2013-11-07 13:23:...|I changed your â...|\n",
      "| 70|2013-11-07 13:30:...|It depends on usa...|\n",
      "| 77|2013-11-07 15:25:...|  right, I modify it|\n",
      "| 37|2013-11-07 15:30:...|@Daniele B: I kno...|\n",
      "| 12|2013-11-07 15:54:...|As per the posted...|\n",
      "| 19|2013-11-07 17:11:...|&quot;Ci&quot; in...|\n",
      "|  5|2013-11-07 18:43:...|@kiamlaluno: *dia...|\n",
      "| 98|2013-11-07 18:50:...|@kiamlaluno I don...|\n",
      "| 63|2013-11-07 20:00:...|I am sorry I didn...|\n",
      "| 22|2013-11-07 20:04:...|Just for clarity,...|\n",
      "| 63|2013-11-07 20:08:...|I was referring t...|\n",
      "| 22|2013-11-07 20:12:...|&quot;Mi sei appa...|\n",
      "| 63|2013-11-07 20:20:...|I think the diffe...|\n",
      "|  8|2013-11-07 20:22:...|@martina I said e...|\n",
      "+---+--------------------+--------------------+\n",
      "only showing top 20 rows\n",
      "\n"
     ]
    }
   ],
   "source": [
    "import pyspark.sql.functions as func\n",
    "itCommentsDFStruct.filter(func.to_date(itCommentsDFStruct['commentDate'])=='2013-11-07').show()"
   ]
  },
  {
   "cell_type": "code",
   "execution_count": 50,
   "metadata": {
    "collapsed": false
   },
   "outputs": [
    {
     "name": "stdout",
     "output_type": "stream",
     "text": [
      "+---+--------------------+--------------------+\n",
      "|id_|         commentDate|             comment|\n",
      "+---+--------------------+--------------------+\n",
      "| 37|2013-11-07 15:30:...|@Daniele B: I kno...|\n",
      "+---+--------------------+--------------------+\n",
      "\n"
     ]
    }
   ],
   "source": [
    "import pyspark.sql.functions as func\n",
    "#instr() : Returns the position of the first occurrence of substr in str\n",
    "itCommentsDFStruct.filter((func.instr(itCommentsDFStruct['comment'],\"@Daniele\") > 0)).show()"
   ]
  },
  {
   "cell_type": "code",
   "execution_count": 51,
   "metadata": {
    "collapsed": false
   },
   "outputs": [
    {
     "name": "stdout",
     "output_type": "stream",
     "text": [
      "+---+--------------------+--------------------+\n",
      "|id_|         commentDate|             comment|\n",
      "+---+--------------------+--------------------+\n",
      "| 37|2013-11-07 15:30:...|@Daniele B: I kno...|\n",
      "+---+--------------------+--------------------+\n",
      "\n"
     ]
    }
   ],
   "source": [
    "#to_date() : Converts a string formatted like yyyy-MM-dd into a Date object.\n",
    "itCommentsDFStruct.filter(func.to_date(itCommentsDFStruct['commentDate'])=='2013-11-07').filter((func.instr(itCommentsDFStruct['comment'],\"@Daniele\") > 0)).show()"
   ]
  },
  {
   "cell_type": "code",
   "execution_count": null,
   "metadata": {
    "collapsed": true
   },
   "outputs": [],
   "source": []
  }
 ],
 "metadata": {
  "anaconda-cloud": {},
  "kernelspec": {
   "display_name": "Python [Root]",
   "language": "python",
   "name": "Python [Root]"
  },
  "language_info": {
   "codemirror_mode": {
    "name": "ipython",
    "version": 2
   },
   "file_extension": ".py",
   "mimetype": "text/x-python",
   "name": "python",
   "nbconvert_exporter": "python",
   "pygments_lexer": "ipython2",
   "version": "2.7.12"
  }
 },
 "nbformat": 4,
 "nbformat_minor": 2
}
