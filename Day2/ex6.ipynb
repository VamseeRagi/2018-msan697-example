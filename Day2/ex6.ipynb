{
 "cells": [
  {
   "cell_type": "code",
   "execution_count": 1,
   "metadata": {
    "collapsed": false
   },
   "outputs": [],
   "source": [
    "from pyspark import SparkContext\n",
    "sc = SparkContext.getOrCreate()\n",
    "sqlContext = SQLContext(sc)"
   ]
  },
  {
   "cell_type": "code",
   "execution_count": 2,
   "metadata": {
    "collapsed": false
   },
   "outputs": [],
   "source": [
    "itVotesRows = sc.textFile(\"../Data/Italian_Stack_Exchange/italianVotes.csv\")\n",
    "itVotesSplit = itVotesRows.map(lambda x : x.encode('utf8').split(\"~\"))"
   ]
  },
  {
   "cell_type": "code",
   "execution_count": 3,
   "metadata": {
    "collapsed": false
   },
   "outputs": [
    {
     "data": {
      "text/plain": [
       "[['2657', '135', '2', '2013-11-22 00:00:00.0']]"
      ]
     },
     "execution_count": 3,
     "metadata": {},
     "output_type": "execute_result"
    }
   ],
   "source": [
    "itVotesSplit.take(1)"
   ]
  },
  {
   "cell_type": "code",
   "execution_count": 4,
   "metadata": {
    "collapsed": true
   },
   "outputs": [],
   "source": [
    "from pyspark.sql import Row\n",
    "from datetime import datetime\n",
    "\n",
    "def toTimeSafe(inval):\n",
    "  try:\n",
    "    return datetime.strptime(inval, \"%Y-%m-%d %H:%M:%S.%f\")\n",
    "  except ValueError:\n",
    "    return None"
   ]
  },
  {
   "cell_type": "code",
   "execution_count": 5,
   "metadata": {
    "collapsed": false
   },
   "outputs": [],
   "source": [
    "def stringToVote(r):\n",
    "  return Row(\n",
    "    long(r[0]),\n",
    "    long(r[1]),\n",
    "    int(r[2]),\n",
    "    toTimeSafe(r[3])\n",
    "    )"
   ]
  },
  {
   "cell_type": "code",
   "execution_count": 6,
   "metadata": {
    "collapsed": false
   },
   "outputs": [],
   "source": [
    "from pyspark.sql.types import *\n",
    "voteSchema = StructType([\n",
    "    StructField(\"id\", LongType(), False),\n",
    "    StructField(\"postId\", LongType(), False),\n",
    "    StructField(\"voteTypeId\", IntegerType(), False),\n",
    "    StructField(\"creationTime\", TimestampType(), False),\n",
    "    ])"
   ]
  },
  {
   "cell_type": "code",
   "execution_count": 7,
   "metadata": {
    "collapsed": true
   },
   "outputs": [],
   "source": [
    "rowRDD = itVotesSplit.map(lambda x: stringToVote(x))"
   ]
  },
  {
   "cell_type": "code",
   "execution_count": 8,
   "metadata": {
    "collapsed": false
   },
   "outputs": [],
   "source": [
    "itVotesDFStruct = sqlContext.createDataFrame(rowRDD, voteSchema)"
   ]
  },
  {
   "cell_type": "code",
   "execution_count": 9,
   "metadata": {
    "collapsed": false
   },
   "outputs": [
    {
     "name": "stdout",
     "output_type": "stream",
     "text": [
      "root\n",
      " |-- id: long (nullable = false)\n",
      " |-- postId: long (nullable = false)\n",
      " |-- voteTypeId: integer (nullable = false)\n",
      " |-- creationTime: timestamp (nullable = false)\n",
      "\n"
     ]
    }
   ],
   "source": [
    "itVotesDFStruct.printSchema()"
   ]
  },
  {
   "cell_type": "code",
   "execution_count": 10,
   "metadata": {
    "collapsed": false
   },
   "outputs": [
    {
     "name": "stdout",
     "output_type": "stream",
     "text": [
      "+----+------+----------+-------------------+\n",
      "|  id|postId|voteTypeId|       creationTime|\n",
      "+----+------+----------+-------------------+\n",
      "|  53|    12|         1|2013-11-05 00:00:00|\n",
      "|  46|     2|         1|2013-11-05 00:00:00|\n",
      "| 195|    36|         1|2013-11-06 00:00:00|\n",
      "| 232|    55|         1|2013-11-06 00:00:00|\n",
      "| 220|    30|         1|2013-11-06 00:00:00|\n",
      "| 216|    52|         1|2013-11-06 00:00:00|\n",
      "| 181|    45|         1|2013-11-06 00:00:00|\n",
      "| 364|    77|         1|2013-11-07 00:00:00|\n",
      "| 380|    84|         1|2013-11-07 00:00:00|\n",
      "| 375|    83|         1|2013-11-07 00:00:00|\n",
      "| 501|    88|         1|2013-11-08 00:00:00|\n",
      "|1651|  1158|         1|2013-11-10 00:00:00|\n",
      "|1672|   106|         1|2013-11-10 00:00:00|\n",
      "|1781|  1170|         1|2013-11-11 00:00:00|\n",
      "|1895|  1212|         1|2013-11-12 00:00:00|\n",
      "|1932|  1235|         1|2013-11-12 00:00:00|\n",
      "|1979|  1228|         1|2013-11-13 00:00:00|\n",
      "|2011|  1234|         1|2013-11-13 00:00:00|\n",
      "|1982|  1216|         1|2013-11-13 00:00:00|\n",
      "|2053|     8|         1|2013-11-14 00:00:00|\n",
      "+----+------+----------+-------------------+\n",
      "only showing top 20 rows\n",
      "\n"
     ]
    }
   ],
   "source": [
    "import pyspark.sql.functions as func\n",
    "itVotesDFStruct.filter('voteTypeId = 1').sort('creationTime').show()"
   ]
  },
  {
   "cell_type": "code",
   "execution_count": null,
   "metadata": {
    "collapsed": true
   },
   "outputs": [],
   "source": []
  }
 ],
 "metadata": {
  "anaconda-cloud": {},
  "kernelspec": {
   "display_name": "Python [Root]",
   "language": "python",
   "name": "Python [Root]"
  },
  "language_info": {
   "codemirror_mode": {
    "name": "ipython",
    "version": 2
   },
   "file_extension": ".py",
   "mimetype": "text/x-python",
   "name": "python",
   "nbconvert_exporter": "python",
   "pygments_lexer": "ipython2",
   "version": "2.7.12"
  }
 },
 "nbformat": 4,
 "nbformat_minor": 2
}
