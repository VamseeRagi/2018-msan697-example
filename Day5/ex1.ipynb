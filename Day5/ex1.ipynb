{
 "cells": [
  {
   "cell_type": "code",
   "execution_count": 1,
   "metadata": {
    "collapsed": true
   },
   "outputs": [],
   "source": [
    "import psycopg2\n",
    "import json #json lilbrary"
   ]
  },
  {
   "cell_type": "code",
   "execution_count": 2,
   "metadata": {
    "collapsed": true
   },
   "outputs": [],
   "source": [
    "def connectdb(db_name, user_name):\n",
    "    try:\n",
    "        db_conn = psycopg2.connect(dbname=db_name, user=user_name)\n",
    "    except:\n",
    "        print(\"Not able to connect to \" + db_name)\n",
    "    return db_conn"
   ]
  },
  {
   "cell_type": "code",
   "execution_count": 3,
   "metadata": {
    "collapsed": true
   },
   "outputs": [],
   "source": [
    "def db_cursor(db_conn):\n",
    "    cursor = db_conn.cursor()  # open a cursor to perform db operations.\n",
    "    return cursor"
   ]
  },
  {
   "cell_type": "code",
   "execution_count": 4,
   "metadata": {
    "collapsed": true
   },
   "outputs": [],
   "source": [
    "def execute(db_cursor, query):\n",
    "    db_cursor.execute(query)"
   ]
  },
  {
   "cell_type": "code",
   "execution_count": 44,
   "metadata": {
    "collapsed": true
   },
   "outputs": [],
   "source": [
    "def create_table(db_cursor, table_name, column_and_type_list):\n",
    "    create_table_query = \"CREATE TABLE \" + table_name + \"(\" + column_and_type_list + \");\"\n",
    "    execute(db_cursor, create_table_query)"
   ]
  },
  {
   "cell_type": "code",
   "execution_count": 22,
   "metadata": {
    "collapsed": true
   },
   "outputs": [],
   "source": [
    "def insert_into_table(db_cursor, table_name, column_names, values):\n",
    "    insert_into_table_query = \"INSERT INTO \" + table_name + \"(\" + column_names + \") VALUES (\" + values + \");\"\n",
    "    execute(db_cursor, insert_into_table_query) "
   ]
  },
  {
   "cell_type": "code",
   "execution_count": 62,
   "metadata": {
    "collapsed": true
   },
   "outputs": [],
   "source": [
    "def alter_table(db_cursor, table_name, action):\n",
    "    alter_table_query = \"ALTER TABLE \"+ table_name + \" \" + action + \";\"\n",
    "    execute(db_cursor, alter_table_query) "
   ]
  },
  {
   "cell_type": "code",
   "execution_count": 10,
   "metadata": {
    "collapsed": true
   },
   "outputs": [],
   "source": [
    "def select_data(db_cursor, table_name, column_name, constraint):\n",
    "    select_data_query = \"SELECT \" + column_name + \" FROM \" + table_name + \" WHERE \" + constraint + \";\"\n",
    "    execute(db_cursor, select_data_query)"
   ]
  },
  {
   "cell_type": "code",
   "execution_count": 38,
   "metadata": {
    "collapsed": true
   },
   "outputs": [],
   "source": [
    "def get_data_value(data,key):\n",
    "    if(data.get(key)):\n",
    "        return data[key]\n",
    "    else:\n",
    "        return ''"
   ]
  },
  {
   "cell_type": "code",
   "execution_count": 42,
   "metadata": {
    "collapsed": false
   },
   "outputs": [],
   "source": [
    "def main():\n",
    "    dbname = \"users\"\n",
    "    usr_name = \"dwoodbridge\"\n",
    "    input_file_name = \"../Data/user_1.json\"\n",
    "    \n",
    "    table_name = \"users\"\n",
    "    column_and_type_list = \"id VARCHAR, age INTEGER, firstname VARCHAR, lastname VARCHAR, company VARCHAR, email VARCHAR, phone VARCHAR, address VARCHAR\"\n",
    "    \n",
    "    id_key = \"_id\"\n",
    "    age_key = \"age\"\n",
    "    name_key = \"name\"\n",
    "    firstname_key = \"first\"\n",
    "    lastname_key = \"last\"\n",
    "    company_key = \"company\"\n",
    "    email_key = \"email\"\n",
    "    phone_key = \"phone\"\n",
    "    address_key = \"address\"\n",
    "    \n",
    "    with open(input_file_name, 'r') as input_file:\n",
    "        data = json.load(input_file)\n",
    "\n",
    "    db_conn = connectdb(dbname, usr_name)\n",
    "    try:\n",
    "        cursor = db_cursor(db_conn)\n",
    "\n",
    "        create_table(cursor, table_name, column_and_type_list)\n",
    "\n",
    "        #Insert Data\n",
    "        for index,d in enumerate(data):\n",
    "            id = get_data_value(d,id_key)\n",
    "            age = get_data_value(d, age_key)\n",
    "            firstname = get_data_value(get_data_value(d, name_key),firstname_key)\n",
    "            lastname = get_data_value(get_data_value(d, name_key),lastname_key)\n",
    "            company = get_data_value(d, company_key)\n",
    "            email = get_data_value(d, email_key)\n",
    "            phone = get_data_value(d, phone_key)\n",
    "            address = get_data_value(d, address_key)\n",
    "\n",
    "            insert_into_table(cursor, table_name, \"id, age, firstname, lastname, company, email, phone, address\", \\\n",
    "                              \"\\'\" + id + \"\\',\" + str(age) + \",\\'\" + firstname + \"\\',\\'\" + lastname + \"\\',\\'\" + company  + \\\n",
    "                              \"\\',\\'\" + email + \"\\',\\'\" + phone + \"\\',\\'\" + address + \"\\'\")\n",
    "\n",
    "        db_conn.commit() #make the changes to the db persistent.\n",
    "        cursor.close()\n",
    "        \n",
    "    finally: #Always close the connection.\n",
    "        db_conn.close()"
   ]
  },
  {
   "cell_type": "code",
   "execution_count": 63,
   "metadata": {
    "collapsed": true
   },
   "outputs": [],
   "source": [
    "def main_2():\n",
    "    dbname = \"users\"\n",
    "    usr_name = \"dwoodbridge\"\n",
    "    input_file_name = \"../Data/user_3.json\"\n",
    "    \n",
    "    table_name = \"users\"\n",
    "    action = \"ADD COLUMN eyecolor VARCHAR\"\n",
    "    \n",
    "    with open(input_file_name, 'r') as input_file:\n",
    "        data = json.load(input_file)\n",
    "\n",
    "    db_conn = connectdb(dbname, usr_name)\n",
    "    try:\n",
    "        cursor = db_cursor(db_conn)\n",
    "\n",
    "        alter_table(cursor, table_name, action)\n",
    "\n",
    "        id_key = \"_id\"\n",
    "        age_key = \"age\"\n",
    "        name_key = \"name\"\n",
    "        firstname_key = \"first\"\n",
    "        lastname_key = \"last\"\n",
    "        company_key = \"company\"\n",
    "        email_key = \"email\"\n",
    "        phone_key = \"phone\"\n",
    "        address_key = \"address\"\n",
    "        eyecolor_key = \"eyeColor\"\n",
    "\n",
    "        #Insert Data\n",
    "        for index,d in enumerate(data):\n",
    "            id = get_data_value(d,id_key)\n",
    "            age = get_data_value(d, age_key)\n",
    "            firstname = get_data_value(get_data_value(d, name_key),firstname_key)\n",
    "            lastname = get_data_value(get_data_value(d, name_key),lastname_key)\n",
    "            company = get_data_value(d, company_key)\n",
    "            email = get_data_value(d, email_key)\n",
    "            phone = get_data_value(d, phone_key)\n",
    "            address = get_data_value(d, address_key)\n",
    "            eyecolor = get_data_value(d, eyecolor_key)\n",
    "\n",
    "            insert_into_table(cursor, table_name, \"id, age, firstname, lastname, company, email, phone, address, eyecolor\", \\\n",
    "                              \"\\'\" + id + \"\\',\" + str(age) + \",\\'\" + firstname + \"\\',\\'\" + lastname + \"\\',\\'\" + company  + \\\n",
    "                              \"\\',\\'\" + email + \"\\',\\'\" + phone + \"\\',\\'\" + address + \"\\',\\'\" + eyecolor + \"\\'\")\n",
    "\n",
    "        db_conn.commit() #make the changes to the db persistent.\n",
    "        cursor.close()\n",
    "    finally: #Always close the connection.\n",
    "        db_conn.close()"
   ]
  },
  {
   "cell_type": "code",
   "execution_count": 64,
   "metadata": {
    "collapsed": false
   },
   "outputs": [
    {
     "name": "stdout",
     "output_type": "stream",
     "text": [
      "ALTER TABLE users ADD COLUMN eyecolor VARCHAR;\n"
     ]
    },
    {
     "ename": "ProgrammingError",
     "evalue": "column \"eyecolor\" of relation \"users\" already exists\n",
     "output_type": "error",
     "traceback": [
      "\u001b[0;31m---------------------------------------------------------------------------\u001b[0m",
      "\u001b[0;31mProgrammingError\u001b[0m                          Traceback (most recent call last)",
      "\u001b[0;32m<ipython-input-64-169cae677583>\u001b[0m in \u001b[0;36m<module>\u001b[0;34m()\u001b[0m\n\u001b[0;32m----> 1\u001b[0;31m \u001b[0;32mif\u001b[0m \u001b[0m__name__\u001b[0m\u001b[0;34m==\u001b[0m\u001b[0mmain\u001b[0m\u001b[0;34m(\u001b[0m\u001b[0;34m)\u001b[0m\u001b[0;34m:\u001b[0m\u001b[0;34m\u001b[0m\u001b[0m\n\u001b[0m\u001b[1;32m      2\u001b[0m     \u001b[0mmain\u001b[0m\u001b[0;34m(\u001b[0m\u001b[0;34m)\u001b[0m\u001b[0;34m\u001b[0m\u001b[0m\n",
      "\u001b[0;32m<ipython-input-63-744ec5123cb6>\u001b[0m in \u001b[0;36mmain\u001b[0;34m()\u001b[0m\n\u001b[1;32m     13\u001b[0m     \u001b[0mcursor\u001b[0m \u001b[0;34m=\u001b[0m \u001b[0mdb_cursor\u001b[0m\u001b[0;34m(\u001b[0m\u001b[0mdb_conn\u001b[0m\u001b[0;34m)\u001b[0m\u001b[0;34m\u001b[0m\u001b[0m\n\u001b[1;32m     14\u001b[0m \u001b[0;34m\u001b[0m\u001b[0m\n\u001b[0;32m---> 15\u001b[0;31m     \u001b[0malter_table\u001b[0m\u001b[0;34m(\u001b[0m\u001b[0mcursor\u001b[0m\u001b[0;34m,\u001b[0m \u001b[0mtable_name\u001b[0m\u001b[0;34m,\u001b[0m \u001b[0maction\u001b[0m\u001b[0;34m)\u001b[0m\u001b[0;34m\u001b[0m\u001b[0m\n\u001b[0m\u001b[1;32m     16\u001b[0m \u001b[0;34m\u001b[0m\u001b[0m\n\u001b[1;32m     17\u001b[0m     \u001b[0mid_key\u001b[0m \u001b[0;34m=\u001b[0m \u001b[0;34m\"_id\"\u001b[0m\u001b[0;34m\u001b[0m\u001b[0m\n",
      "\u001b[0;32m<ipython-input-62-41c786424c45>\u001b[0m in \u001b[0;36malter_table\u001b[0;34m(db_cursor, table_name, action)\u001b[0m\n\u001b[1;32m      2\u001b[0m     \u001b[0malter_table_query\u001b[0m \u001b[0;34m=\u001b[0m \u001b[0;34m\"ALTER TABLE \"\u001b[0m\u001b[0;34m+\u001b[0m \u001b[0mtable_name\u001b[0m \u001b[0;34m+\u001b[0m \u001b[0;34m\" \"\u001b[0m \u001b[0;34m+\u001b[0m \u001b[0maction\u001b[0m \u001b[0;34m+\u001b[0m \u001b[0;34m\";\"\u001b[0m\u001b[0;34m\u001b[0m\u001b[0m\n\u001b[1;32m      3\u001b[0m     \u001b[0;32mprint\u001b[0m \u001b[0malter_table_query\u001b[0m\u001b[0;34m\u001b[0m\u001b[0m\n\u001b[0;32m----> 4\u001b[0;31m     \u001b[0mexecute\u001b[0m\u001b[0;34m(\u001b[0m\u001b[0mdb_cursor\u001b[0m\u001b[0;34m,\u001b[0m \u001b[0malter_table_query\u001b[0m\u001b[0;34m)\u001b[0m\u001b[0;34m\u001b[0m\u001b[0m\n\u001b[0m\u001b[1;32m      5\u001b[0m     \u001b[0;31m#db_cursor.execute(alter_table_query)\u001b[0m\u001b[0;34m\u001b[0m\u001b[0;34m\u001b[0m\u001b[0m\n",
      "\u001b[0;32m<ipython-input-4-92647857f6b2>\u001b[0m in \u001b[0;36mexecute\u001b[0;34m(db_cursor, query)\u001b[0m\n\u001b[1;32m      1\u001b[0m \u001b[0;32mdef\u001b[0m \u001b[0mexecute\u001b[0m\u001b[0;34m(\u001b[0m\u001b[0mdb_cursor\u001b[0m\u001b[0;34m,\u001b[0m \u001b[0mquery\u001b[0m\u001b[0;34m)\u001b[0m\u001b[0;34m:\u001b[0m\u001b[0;34m\u001b[0m\u001b[0m\n\u001b[0;32m----> 2\u001b[0;31m     \u001b[0mdb_cursor\u001b[0m\u001b[0;34m.\u001b[0m\u001b[0mexecute\u001b[0m\u001b[0;34m(\u001b[0m\u001b[0mquery\u001b[0m\u001b[0;34m)\u001b[0m\u001b[0;34m\u001b[0m\u001b[0m\n\u001b[0m",
      "\u001b[0;31mProgrammingError\u001b[0m: column \"eyecolor\" of relation \"users\" already exists\n"
     ]
    }
   ],
   "source": [
    "if __name__==main():\n",
    "    main()"
   ]
  },
  {
   "cell_type": "code",
   "execution_count": 55,
   "metadata": {
    "collapsed": true
   },
   "outputs": [],
   "source": [
    "    dbname = \"users\"\n",
    "    usr_name = \"dwoodbridge\"\n",
    "    input_file_name = \"../Data/user_3.json\"\n",
    "    \n",
    "    table_name = \"users\"\n",
    "    action = \"ADD COLUMN eyecolor VARCHAR\"\n",
    "    \n",
    "    with open(input_file_name, 'r') as input_file:\n",
    "        data = json.load(input_file)\n",
    "\n",
    "    db_conn = connectdb(dbname, usr_name)"
   ]
  },
  {
   "cell_type": "code",
   "execution_count": 56,
   "metadata": {
    "collapsed": false
   },
   "outputs": [
    {
     "data": {
      "text/plain": [
       "<connection object at 0x103c61c30; dsn: 'user=dwoodbridge dbname=users', closed: 0>"
      ]
     },
     "execution_count": 56,
     "metadata": {},
     "output_type": "execute_result"
    }
   ],
   "source": [
    "db_conn"
   ]
  },
  {
   "cell_type": "code",
   "execution_count": 57,
   "metadata": {
    "collapsed": true
   },
   "outputs": [],
   "source": [
    "cursor = db_cursor(db_conn)"
   ]
  },
  {
   "cell_type": "code",
   "execution_count": 58,
   "metadata": {
    "collapsed": false
   },
   "outputs": [
    {
     "data": {
      "text/plain": [
       "<cursor object at 0x104057ed8; closed: 0>"
      ]
     },
     "execution_count": 58,
     "metadata": {},
     "output_type": "execute_result"
    }
   ],
   "source": [
    "cursor"
   ]
  },
  {
   "cell_type": "code",
   "execution_count": 59,
   "metadata": {
    "collapsed": true
   },
   "outputs": [],
   "source": [
    "cursor.execute()"
   ]
  },
  {
   "cell_type": "code",
   "execution_count": 61,
   "metadata": {
    "collapsed": false
   },
   "outputs": [
    {
     "ename": "InternalError",
     "evalue": "current transaction is aborted, commands ignored until end of transaction block\n",
     "output_type": "error",
     "traceback": [
      "\u001b[0;31m---------------------------------------------------------------------------\u001b[0m",
      "\u001b[0;31mInternalError\u001b[0m                             Traceback (most recent call last)",
      "\u001b[0;32m<ipython-input-61-e311161bafd0>\u001b[0m in \u001b[0;36m<module>\u001b[0;34m()\u001b[0m\n\u001b[0;32m----> 1\u001b[0;31m \u001b[0mcursor\u001b[0m\u001b[0;34m.\u001b[0m\u001b[0mexecute\u001b[0m\u001b[0;34m(\u001b[0m\u001b[0;34m\"ALTER TABLE users ADD COLUMN eyecolor VARCHAR;\"\u001b[0m\u001b[0;34m)\u001b[0m\u001b[0;34m\u001b[0m\u001b[0m\n\u001b[0m",
      "\u001b[0;31mInternalError\u001b[0m: current transaction is aborted, commands ignored until end of transaction block\n"
     ]
    }
   ],
   "source": [
    "cursor.execute(\"ALTER TABLE users ADD COLUMN eyecolor VARCHAR;\")"
   ]
  },
  {
   "cell_type": "code",
   "execution_count": null,
   "metadata": {
    "collapsed": true
   },
   "outputs": [],
   "source": []
  },
  {
   "cell_type": "code",
   "execution_count": null,
   "metadata": {
    "collapsed": true
   },
   "outputs": [],
   "source": []
  }
 ],
 "metadata": {
  "anaconda-cloud": {},
  "kernelspec": {
   "display_name": "Python [Root]",
   "language": "python",
   "name": "Python [Root]"
  },
  "language_info": {
   "codemirror_mode": {
    "name": "ipython",
    "version": 2
   },
   "file_extension": ".py",
   "mimetype": "text/x-python",
   "name": "python",
   "nbconvert_exporter": "python",
   "pygments_lexer": "ipython2",
   "version": "2.7.12"
  }
 },
 "nbformat": 4,
 "nbformat_minor": 2
}
