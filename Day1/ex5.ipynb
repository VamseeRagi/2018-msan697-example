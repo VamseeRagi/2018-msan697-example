{
 "cells": [
  {
   "cell_type": "code",
   "execution_count": 7,
   "metadata": {
    "collapsed": true
   },
   "outputs": [],
   "source": [
    "from pyspark import SparkContext\n",
    "sc = SparkContext.getOrCreate()"
   ]
  },
  {
   "cell_type": "code",
   "execution_count": 8,
   "metadata": {
    "collapsed": true
   },
   "outputs": [],
   "source": [
    "nums = sc.parallelize([(1,2),(3,4),(5,1),(2,3),(1,5)])"
   ]
  },
  {
   "cell_type": "code",
   "execution_count": 9,
   "metadata": {
    "collapsed": false
   },
   "outputs": [
    {
     "data": {
      "text/plain": [
       "[[], [(1, 2), (5, 1), (1, 5)], [(2, 3)], [(3, 4)]]"
      ]
     },
     "execution_count": 9,
     "metadata": {},
     "output_type": "execute_result"
    }
   ],
   "source": [
    "nums.partitionBy(4).glom().collect()"
   ]
  },
  {
   "cell_type": "code",
   "execution_count": 10,
   "metadata": {
    "collapsed": false
   },
   "outputs": [
    {
     "name": "stdout",
     "output_type": "stream",
     "text": [
      "hash:[[], [(1, 2), (5, 1), (1, 5)], [(2, 3)], [(3, 4)]]\n",
      "hash:[[], [(1, 2), (5, 1), (1, 5)], [(2, 3)], [(3, 4)]]\n",
      "custom : [[(2, 3)], [(3, 4)], [], [(1, 2), (5, 1), (1, 5)]]\n"
     ]
    }
   ],
   "source": [
    "def hash_partitioner(key):\n",
    "    return hash(key)\n",
    "def custom_partitioner(key):\n",
    "    return hash(key + 10)\n",
    "\n",
    "print \"hash:\" + str(nums.partitionBy(4).glom().collect())\n",
    "print \"hash:\" + str(nums.partitionBy(4, hash_partitioner).glom().collect())\n",
    "print \"custom : \" + str(nums.partitionBy(4, custom_partitioner).glom().collect())\n",
    "\n",
    "#range partitioner implementaiton : https://fossies.org/linux/spark/python/pyspark/rdd.py"
   ]
  },
  {
   "cell_type": "code",
   "execution_count": null,
   "metadata": {
    "collapsed": true
   },
   "outputs": [],
   "source": []
  }
 ],
 "metadata": {
  "anaconda-cloud": {},
  "kernelspec": {
   "display_name": "Python [Root]",
   "language": "python",
   "name": "Python [Root]"
  },
  "language_info": {
   "codemirror_mode": {
    "name": "ipython",
    "version": 2
   },
   "file_extension": ".py",
   "mimetype": "text/x-python",
   "name": "python",
   "nbconvert_exporter": "python",
   "pygments_lexer": "ipython2",
   "version": "2.7.12"
  }
 },
 "nbformat": 4,
 "nbformat_minor": 2
}
