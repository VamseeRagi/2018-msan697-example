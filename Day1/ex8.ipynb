{
 "cells": [
  {
   "cell_type": "code",
   "execution_count": 38,
   "metadata": {
    "collapsed": true
   },
   "outputs": [],
   "source": [
    "from pyspark import SparkContext\n",
    "sc = SparkContext.getOrCreate()"
   ]
  },
  {
   "cell_type": "code",
   "execution_count": 39,
   "metadata": {
    "collapsed": false
   },
   "outputs": [
    {
     "data": {
      "text/html": [
       "\n",
       "        <div>\n",
       "            <p><b>SparkContext</b></p>\n",
       "\n",
       "            <p><a href=\"http://192.168.1.8:4042\">Spark UI</a></p>\n",
       "\n",
       "            <dl>\n",
       "              <dt>Version</dt>\n",
       "                <dd><code>v2.2.0</code></dd>\n",
       "              <dt>Master</dt>\n",
       "                <dd><code>local[*]</code></dd>\n",
       "              <dt>AppName</dt>\n",
       "                <dd><code>PySparkShell</code></dd>\n",
       "            </dl>\n",
       "        </div>\n",
       "        "
      ],
      "text/plain": [
       "<SparkContext master=local[*] appName=PySparkShell>"
      ]
     },
     "execution_count": 39,
     "metadata": {},
     "output_type": "execute_result"
    }
   ],
   "source": [
    "sc"
   ]
  },
  {
   "cell_type": "code",
   "execution_count": 40,
   "metadata": {
    "collapsed": true
   },
   "outputs": [],
   "source": [
    "import random"
   ]
  },
  {
   "cell_type": "code",
   "execution_count": 41,
   "metadata": {
    "collapsed": true
   },
   "outputs": [],
   "source": [
    "# Create list size of 500 with integer between 0 and 9.\n",
    "list = [random.randrange(10) for x in range(500)]"
   ]
  },
  {
   "cell_type": "code",
   "execution_count": 42,
   "metadata": {
    "collapsed": true
   },
   "outputs": [],
   "source": [
    "listrdd = sc.parallelize(list, 5)"
   ]
  },
  {
   "cell_type": "code",
   "execution_count": 68,
   "metadata": {
    "collapsed": true
   },
   "outputs": [],
   "source": [
    "pairs = listrdd.map(lambda x : (x,x*x))"
   ]
  },
  {
   "cell_type": "code",
   "execution_count": 69,
   "metadata": {
    "collapsed": false
   },
   "outputs": [
    {
     "data": {
      "text/plain": [
       "[(5, 25),\n",
       " (4, 16),\n",
       " (5, 25),\n",
       " (2, 4),\n",
       " (1, 1),\n",
       " (5, 25),\n",
       " (1, 1),\n",
       " (8, 64),\n",
       " (9, 81),\n",
       " (1, 1),\n",
       " (7, 49),\n",
       " (3, 9),\n",
       " (1, 1),\n",
       " (4, 16),\n",
       " (0, 0),\n",
       " (0, 0),\n",
       " (3, 9),\n",
       " (6, 36),\n",
       " (4, 16),\n",
       " (3, 9),\n",
       " (0, 0),\n",
       " (0, 0),\n",
       " (2, 4),\n",
       " (7, 49),\n",
       " (8, 64),\n",
       " (1, 1),\n",
       " (7, 49),\n",
       " (4, 16),\n",
       " (1, 1),\n",
       " (5, 25),\n",
       " (5, 25),\n",
       " (7, 49),\n",
       " (5, 25),\n",
       " (1, 1),\n",
       " (6, 36),\n",
       " (3, 9),\n",
       " (1, 1),\n",
       " (5, 25),\n",
       " (0, 0),\n",
       " (7, 49),\n",
       " (9, 81),\n",
       " (5, 25),\n",
       " (6, 36),\n",
       " (0, 0),\n",
       " (1, 1),\n",
       " (8, 64),\n",
       " (1, 1),\n",
       " (5, 25),\n",
       " (4, 16),\n",
       " (4, 16),\n",
       " (6, 36),\n",
       " (0, 0),\n",
       " (8, 64),\n",
       " (5, 25),\n",
       " (6, 36),\n",
       " (0, 0),\n",
       " (3, 9),\n",
       " (7, 49),\n",
       " (1, 1),\n",
       " (9, 81),\n",
       " (9, 81),\n",
       " (7, 49),\n",
       " (6, 36),\n",
       " (8, 64),\n",
       " (3, 9),\n",
       " (9, 81),\n",
       " (3, 9),\n",
       " (4, 16),\n",
       " (6, 36),\n",
       " (8, 64),\n",
       " (9, 81),\n",
       " (7, 49),\n",
       " (7, 49),\n",
       " (8, 64),\n",
       " (3, 9),\n",
       " (2, 4),\n",
       " (3, 9),\n",
       " (0, 0),\n",
       " (8, 64),\n",
       " (1, 1),\n",
       " (9, 81),\n",
       " (6, 36),\n",
       " (8, 64),\n",
       " (0, 0),\n",
       " (8, 64),\n",
       " (0, 0),\n",
       " (7, 49),\n",
       " (0, 0),\n",
       " (0, 0),\n",
       " (3, 9),\n",
       " (7, 49),\n",
       " (2, 4),\n",
       " (9, 81),\n",
       " (8, 64),\n",
       " (8, 64),\n",
       " (7, 49),\n",
       " (5, 25),\n",
       " (3, 9),\n",
       " (4, 16),\n",
       " (9, 81),\n",
       " (1, 1),\n",
       " (3, 9),\n",
       " (2, 4),\n",
       " (8, 64),\n",
       " (8, 64),\n",
       " (1, 1),\n",
       " (4, 16),\n",
       " (4, 16),\n",
       " (1, 1),\n",
       " (0, 0),\n",
       " (0, 0),\n",
       " (4, 16),\n",
       " (1, 1),\n",
       " (1, 1),\n",
       " (0, 0),\n",
       " (5, 25),\n",
       " (3, 9),\n",
       " (7, 49),\n",
       " (9, 81),\n",
       " (0, 0),\n",
       " (4, 16),\n",
       " (8, 64),\n",
       " (7, 49),\n",
       " (7, 49),\n",
       " (3, 9),\n",
       " (4, 16),\n",
       " (6, 36),\n",
       " (6, 36),\n",
       " (1, 1),\n",
       " (8, 64),\n",
       " (0, 0),\n",
       " (5, 25),\n",
       " (1, 1),\n",
       " (3, 9),\n",
       " (6, 36),\n",
       " (4, 16),\n",
       " (8, 64),\n",
       " (1, 1),\n",
       " (2, 4),\n",
       " (3, 9),\n",
       " (4, 16),\n",
       " (7, 49),\n",
       " (7, 49),\n",
       " (5, 25),\n",
       " (2, 4),\n",
       " (8, 64),\n",
       " (5, 25),\n",
       " (7, 49),\n",
       " (3, 9),\n",
       " (6, 36),\n",
       " (6, 36),\n",
       " (9, 81),\n",
       " (4, 16),\n",
       " (1, 1),\n",
       " (9, 81),\n",
       " (3, 9),\n",
       " (3, 9),\n",
       " (6, 36),\n",
       " (3, 9),\n",
       " (7, 49),\n",
       " (9, 81),\n",
       " (2, 4),\n",
       " (8, 64),\n",
       " (7, 49),\n",
       " (9, 81),\n",
       " (0, 0),\n",
       " (0, 0),\n",
       " (0, 0),\n",
       " (4, 16),\n",
       " (8, 64),\n",
       " (2, 4),\n",
       " (1, 1),\n",
       " (4, 16),\n",
       " (7, 49),\n",
       " (4, 16),\n",
       " (1, 1),\n",
       " (7, 49),\n",
       " (7, 49),\n",
       " (7, 49),\n",
       " (0, 0),\n",
       " (3, 9),\n",
       " (3, 9),\n",
       " (8, 64),\n",
       " (4, 16),\n",
       " (8, 64),\n",
       " (9, 81),\n",
       " (8, 64),\n",
       " (3, 9),\n",
       " (3, 9),\n",
       " (4, 16),\n",
       " (5, 25),\n",
       " (6, 36),\n",
       " (4, 16),\n",
       " (0, 0),\n",
       " (3, 9),\n",
       " (7, 49),\n",
       " (0, 0),\n",
       " (4, 16),\n",
       " (6, 36),\n",
       " (9, 81),\n",
       " (9, 81),\n",
       " (1, 1),\n",
       " (2, 4),\n",
       " (5, 25),\n",
       " (7, 49),\n",
       " (2, 4),\n",
       " (7, 49),\n",
       " (8, 64),\n",
       " (8, 64),\n",
       " (0, 0),\n",
       " (1, 1),\n",
       " (1, 1),\n",
       " (4, 16),\n",
       " (3, 9),\n",
       " (2, 4),\n",
       " (3, 9),\n",
       " (8, 64),\n",
       " (1, 1),\n",
       " (3, 9),\n",
       " (7, 49),\n",
       " (0, 0),\n",
       " (1, 1),\n",
       " (6, 36),\n",
       " (1, 1),\n",
       " (8, 64),\n",
       " (7, 49),\n",
       " (0, 0),\n",
       " (6, 36),\n",
       " (4, 16),\n",
       " (6, 36),\n",
       " (1, 1),\n",
       " (2, 4),\n",
       " (8, 64),\n",
       " (7, 49),\n",
       " (6, 36),\n",
       " (9, 81),\n",
       " (2, 4),\n",
       " (6, 36),\n",
       " (7, 49),\n",
       " (8, 64),\n",
       " (2, 4),\n",
       " (0, 0),\n",
       " (1, 1),\n",
       " (1, 1),\n",
       " (3, 9),\n",
       " (0, 0),\n",
       " (8, 64),\n",
       " (3, 9),\n",
       " (3, 9),\n",
       " (6, 36),\n",
       " (4, 16),\n",
       " (9, 81),\n",
       " (7, 49),\n",
       " (9, 81),\n",
       " (4, 16),\n",
       " (8, 64),\n",
       " (3, 9),\n",
       " (1, 1),\n",
       " (0, 0),\n",
       " (3, 9),\n",
       " (6, 36),\n",
       " (3, 9),\n",
       " (2, 4),\n",
       " (1, 1),\n",
       " (6, 36),\n",
       " (7, 49),\n",
       " (1, 1),\n",
       " (8, 64),\n",
       " (5, 25),\n",
       " (9, 81),\n",
       " (9, 81),\n",
       " (2, 4),\n",
       " (7, 49),\n",
       " (6, 36),\n",
       " (7, 49),\n",
       " (7, 49),\n",
       " (7, 49),\n",
       " (0, 0),\n",
       " (6, 36),\n",
       " (6, 36),\n",
       " (5, 25),\n",
       " (8, 64),\n",
       " (2, 4),\n",
       " (1, 1),\n",
       " (9, 81),\n",
       " (4, 16),\n",
       " (2, 4),\n",
       " (1, 1),\n",
       " (3, 9),\n",
       " (0, 0),\n",
       " (4, 16),\n",
       " (5, 25),\n",
       " (7, 49),\n",
       " (2, 4),\n",
       " (5, 25),\n",
       " (0, 0),\n",
       " (1, 1),\n",
       " (9, 81),\n",
       " (6, 36),\n",
       " (8, 64),\n",
       " (7, 49),\n",
       " (1, 1),\n",
       " (2, 4),\n",
       " (8, 64),\n",
       " (7, 49),\n",
       " (0, 0),\n",
       " (3, 9),\n",
       " (6, 36),\n",
       " (1, 1),\n",
       " (6, 36),\n",
       " (4, 16),\n",
       " (6, 36),\n",
       " (6, 36),\n",
       " (0, 0),\n",
       " (9, 81),\n",
       " (3, 9),\n",
       " (6, 36),\n",
       " (6, 36),\n",
       " (9, 81),\n",
       " (2, 4),\n",
       " (3, 9),\n",
       " (8, 64),\n",
       " (2, 4),\n",
       " (5, 25),\n",
       " (2, 4),\n",
       " (1, 1),\n",
       " (4, 16),\n",
       " (9, 81),\n",
       " (7, 49),\n",
       " (3, 9),\n",
       " (8, 64),\n",
       " (8, 64),\n",
       " (0, 0),\n",
       " (8, 64),\n",
       " (5, 25),\n",
       " (8, 64),\n",
       " (8, 64),\n",
       " (8, 64),\n",
       " (3, 9),\n",
       " (7, 49),\n",
       " (3, 9),\n",
       " (7, 49),\n",
       " (3, 9),\n",
       " (1, 1),\n",
       " (9, 81),\n",
       " (0, 0),\n",
       " (1, 1),\n",
       " (9, 81),\n",
       " (8, 64),\n",
       " (1, 1),\n",
       " (6, 36),\n",
       " (4, 16),\n",
       " (4, 16),\n",
       " (7, 49),\n",
       " (8, 64),\n",
       " (3, 9),\n",
       " (3, 9),\n",
       " (5, 25),\n",
       " (5, 25),\n",
       " (3, 9),\n",
       " (9, 81),\n",
       " (6, 36),\n",
       " (1, 1),\n",
       " (9, 81),\n",
       " (4, 16),\n",
       " (2, 4),\n",
       " (1, 1),\n",
       " (7, 49),\n",
       " (4, 16),\n",
       " (5, 25),\n",
       " (6, 36),\n",
       " (6, 36),\n",
       " (7, 49),\n",
       " (4, 16),\n",
       " (6, 36),\n",
       " (3, 9),\n",
       " (8, 64),\n",
       " (4, 16),\n",
       " (2, 4),\n",
       " (0, 0),\n",
       " (5, 25),\n",
       " (1, 1),\n",
       " (2, 4),\n",
       " (7, 49),\n",
       " (9, 81),\n",
       " (3, 9),\n",
       " (1, 1),\n",
       " (9, 81),\n",
       " (0, 0),\n",
       " (9, 81),\n",
       " (6, 36),\n",
       " (6, 36),\n",
       " (7, 49),\n",
       " (4, 16),\n",
       " (2, 4),\n",
       " (3, 9),\n",
       " (1, 1),\n",
       " (5, 25),\n",
       " (0, 0),\n",
       " (4, 16),\n",
       " (1, 1),\n",
       " (3, 9),\n",
       " (2, 4),\n",
       " (8, 64),\n",
       " (6, 36),\n",
       " (8, 64),\n",
       " (1, 1),\n",
       " (8, 64),\n",
       " (1, 1),\n",
       " (9, 81),\n",
       " (4, 16),\n",
       " (9, 81),\n",
       " (0, 0),\n",
       " (2, 4),\n",
       " (9, 81),\n",
       " (1, 1),\n",
       " (2, 4),\n",
       " (2, 4),\n",
       " (6, 36),\n",
       " (8, 64),\n",
       " (8, 64),\n",
       " (8, 64),\n",
       " (7, 49),\n",
       " (2, 4),\n",
       " (8, 64),\n",
       " (1, 1),\n",
       " (3, 9),\n",
       " (4, 16),\n",
       " (8, 64),\n",
       " (3, 9),\n",
       " (3, 9),\n",
       " (5, 25),\n",
       " (8, 64),\n",
       " (6, 36),\n",
       " (7, 49),\n",
       " (2, 4),\n",
       " (9, 81),\n",
       " (5, 25),\n",
       " (2, 4),\n",
       " (1, 1),\n",
       " (3, 9),\n",
       " (0, 0),\n",
       " (8, 64),\n",
       " (8, 64),\n",
       " (2, 4),\n",
       " (1, 1),\n",
       " (9, 81),\n",
       " (1, 1),\n",
       " (1, 1),\n",
       " (0, 0),\n",
       " (9, 81),\n",
       " (4, 16),\n",
       " (7, 49),\n",
       " (8, 64),\n",
       " (5, 25),\n",
       " (3, 9),\n",
       " (1, 1),\n",
       " (8, 64),\n",
       " (6, 36),\n",
       " (9, 81),\n",
       " (2, 4),\n",
       " (4, 16),\n",
       " (9, 81),\n",
       " (2, 4),\n",
       " (9, 81),\n",
       " (8, 64),\n",
       " (9, 81),\n",
       " (0, 0),\n",
       " (8, 64),\n",
       " (6, 36),\n",
       " (5, 25),\n",
       " (2, 4),\n",
       " (9, 81),\n",
       " (6, 36),\n",
       " (7, 49),\n",
       " (7, 49),\n",
       " (9, 81),\n",
       " (4, 16),\n",
       " (2, 4),\n",
       " (6, 36),\n",
       " (9, 81),\n",
       " (5, 25),\n",
       " (0, 0),\n",
       " (1, 1),\n",
       " (6, 36),\n",
       " (4, 16),\n",
       " (7, 49),\n",
       " (0, 0),\n",
       " (6, 36),\n",
       " (2, 4),\n",
       " (7, 49),\n",
       " (9, 81),\n",
       " (6, 36),\n",
       " (7, 49),\n",
       " (9, 81),\n",
       " (9, 81),\n",
       " (8, 64),\n",
       " (5, 25),\n",
       " (8, 64),\n",
       " (2, 4)]"
      ]
     },
     "execution_count": 69,
     "metadata": {},
     "output_type": "execute_result"
    }
   ],
   "source": [
    "pairs.collect()"
   ]
  },
  {
   "cell_type": "code",
   "execution_count": 70,
   "metadata": {
    "collapsed": true
   },
   "outputs": [],
   "source": [
    "reduced = pairs.reduceByKey(lambda x1,x2  : x1+x2)"
   ]
  },
  {
   "cell_type": "code",
   "execution_count": 71,
   "metadata": {
    "collapsed": false
   },
   "outputs": [],
   "source": [
    "#mapPartitions() : Return a new RDD by applying a function to each partition of this RDD.\n",
    "finalRDD = reduced.mapPartitions(lambda itr : [\"Key = \" + str(key) +\", Value = \" + str(val) for (key,val) in itr])"
   ]
  },
  {
   "cell_type": "code",
   "execution_count": 72,
   "metadata": {
    "collapsed": false
   },
   "outputs": [
    {
     "data": {
      "text/plain": [
       "['Key = 0, Value = 0',\n",
       " 'Key = 5, Value = 850',\n",
       " 'Key = 1, Value = 60',\n",
       " 'Key = 6, Value = 1836',\n",
       " 'Key = 2, Value = 168',\n",
       " 'Key = 7, Value = 2744',\n",
       " 'Key = 8, Value = 3968',\n",
       " 'Key = 3, Value = 486',\n",
       " 'Key = 9, Value = 4050',\n",
       " 'Key = 4, Value = 720']"
      ]
     },
     "execution_count": 72,
     "metadata": {},
     "output_type": "execute_result"
    }
   ],
   "source": [
    "finalRDD.collect()"
   ]
  },
  {
   "cell_type": "code",
   "execution_count": 73,
   "metadata": {
    "collapsed": false
   },
   "outputs": [
    {
     "name": "stdout",
     "output_type": "stream",
     "text": [
      "(5) PythonRDD[60] at collect at <ipython-input-72-3fb147ed11e7>:1 []\n",
      " |  MapPartitionsRDD[59] at mapPartitions at PythonRDD.scala:427 []\n",
      " |  ShuffledRDD[58] at partitionBy at NativeMethodAccessorImpl.java:0 []\n",
      " +-(5) PairwiseRDD[57] at reduceByKey at <ipython-input-70-c5e66787794d>:1 []\n",
      "    |  PythonRDD[56] at reduceByKey at <ipython-input-70-c5e66787794d>:1 []\n",
      "    |  ParallelCollectionRDD[22] at parallelize at PythonRDD.scala:480 []\n"
     ]
    }
   ],
   "source": [
    "print finalRDD.toDebugString()"
   ]
  },
  {
   "cell_type": "code",
   "execution_count": 74,
   "metadata": {
    "collapsed": false
   },
   "outputs": [],
   "source": [
    "ordered_finalRDD = pairs.reduceByKey(lambda x1,x2  : x1+x2).sortByKey()"
   ]
  },
  {
   "cell_type": "code",
   "execution_count": 75,
   "metadata": {
    "collapsed": false
   },
   "outputs": [
    {
     "data": {
      "text/plain": [
       "[(0, 0),\n",
       " (1, 60),\n",
       " (2, 168),\n",
       " (3, 486),\n",
       " (4, 720),\n",
       " (5, 850),\n",
       " (6, 1836),\n",
       " (7, 2744),\n",
       " (8, 3968),\n",
       " (9, 4050)]"
      ]
     },
     "execution_count": 75,
     "metadata": {},
     "output_type": "execute_result"
    }
   ],
   "source": [
    "ordered_finalRDD.collect()"
   ]
  },
  {
   "cell_type": "code",
   "execution_count": 76,
   "metadata": {
    "collapsed": false
   },
   "outputs": [
    {
     "name": "stdout",
     "output_type": "stream",
     "text": [
      "(5) PythonRDD[71] at collect at <ipython-input-75-6454b7f1c2c7>:1 []\n",
      " |  MapPartitionsRDD[70] at mapPartitions at PythonRDD.scala:427 []\n",
      " |  ShuffledRDD[69] at partitionBy at NativeMethodAccessorImpl.java:0 []\n",
      " +-(5) PairwiseRDD[68] at sortByKey at <ipython-input-74-6f0a229ec686>:1 []\n",
      "    |  PythonRDD[67] at sortByKey at <ipython-input-74-6f0a229ec686>:1 []\n",
      "    |  MapPartitionsRDD[64] at mapPartitions at PythonRDD.scala:427 []\n",
      "    |  ShuffledRDD[63] at partitionBy at NativeMethodAccessorImpl.java:0 []\n",
      "    +-(5) PairwiseRDD[62] at reduceByKey at <ipython-input-74-6f0a229ec686>:1 []\n",
      "       |  PythonRDD[61] at reduceByKey at <ipython-input-74-6f0a229ec686>:1 []\n",
      "       |  ParallelCollectionRDD[22] at parallelize at PythonRDD.scala:480 []\n"
     ]
    }
   ],
   "source": [
    "print ordered_finalRDD.toDebugString()"
   ]
  },
  {
   "cell_type": "code",
   "execution_count": 77,
   "metadata": {
    "collapsed": true
   },
   "outputs": [],
   "source": [
    "coalesce = ordered_finalRDD.coalesce(3)"
   ]
  },
  {
   "cell_type": "code",
   "execution_count": 78,
   "metadata": {
    "collapsed": false
   },
   "outputs": [
    {
     "name": "stdout",
     "output_type": "stream",
     "text": [
      "(3) CoalescedRDD[72] at coalesce at NativeMethodAccessorImpl.java:0 []\n",
      " |  PythonRDD[71] at collect at <ipython-input-75-6454b7f1c2c7>:1 []\n",
      " |  MapPartitionsRDD[70] at mapPartitions at PythonRDD.scala:427 []\n",
      " |  ShuffledRDD[69] at partitionBy at NativeMethodAccessorImpl.java:0 []\n",
      " +-(5) PairwiseRDD[68] at sortByKey at <ipython-input-74-6f0a229ec686>:1 []\n",
      "    |  PythonRDD[67] at sortByKey at <ipython-input-74-6f0a229ec686>:1 []\n",
      "    |  MapPartitionsRDD[64] at mapPartitions at PythonRDD.scala:427 []\n",
      "    |  ShuffledRDD[63] at partitionBy at NativeMethodAccessorImpl.java:0 []\n",
      "    +-(5) PairwiseRDD[62] at reduceByKey at <ipython-input-74-6f0a229ec686>:1 []\n",
      "       |  PythonRDD[61] at reduceByKey at <ipython-input-74-6f0a229ec686>:1 []\n",
      "       |  ParallelCollectionRDD[22] at parallelize at PythonRDD.scala:480 []\n"
     ]
    }
   ],
   "source": [
    "print coalesce.toDebugString()"
   ]
  },
  {
   "cell_type": "code",
   "execution_count": 79,
   "metadata": {
    "collapsed": false
   },
   "outputs": [],
   "source": [
    "repartition = ordered_finalRDD.repartition(3)"
   ]
  },
  {
   "cell_type": "code",
   "execution_count": 80,
   "metadata": {
    "collapsed": false
   },
   "outputs": [
    {
     "name": "stdout",
     "output_type": "stream",
     "text": [
      "(3) MapPartitionsRDD[77] at coalesce at NativeMethodAccessorImpl.java:0 []\n",
      " |  CoalescedRDD[76] at coalesce at NativeMethodAccessorImpl.java:0 []\n",
      " |  ShuffledRDD[75] at coalesce at NativeMethodAccessorImpl.java:0 []\n",
      " +-(5) MapPartitionsRDD[74] at coalesce at NativeMethodAccessorImpl.java:0 []\n",
      "    |  PythonRDD[73] at RDD at PythonRDD.scala:48 []\n",
      "    |  MapPartitionsRDD[70] at mapPartitions at PythonRDD.scala:427 []\n",
      "    |  ShuffledRDD[69] at partitionBy at NativeMethodAccessorImpl.java:0 []\n",
      "    +-(5) PairwiseRDD[68] at sortByKey at <ipython-input-74-6f0a229ec686>:1 []\n",
      "       |  PythonRDD[67] at sortByKey at <ipython-input-74-6f0a229ec686>:1 []\n",
      "       |  MapPartitionsRDD[64] at mapPartitions at PythonRDD.scala:427 []\n",
      "       |  ShuffledRDD[63] at partitionBy at NativeMethodAccessorImpl.java:0 []\n",
      "       +-(5) PairwiseRDD[62] at reduceByKey at <ipython-input-74-6f0a229ec686>:1 []\n",
      "          |  PythonRDD[61] at reduceByKey at <ipython-input-74-6f0a229ec686>:1 []\n",
      "          |  ParallelCollectionRDD[22] at parallelize at PythonRDD.scala:480 []\n"
     ]
    }
   ],
   "source": [
    "print repartition.toDebugString()"
   ]
  },
  {
   "cell_type": "code",
   "execution_count": 82,
   "metadata": {
    "collapsed": false
   },
   "outputs": [
    {
     "name": "stdout",
     "output_type": "stream",
     "text": [
      "(3) MapPartitionsRDD[77] at coalesce at NativeMethodAccessorImpl.java:0 []\n",
      " |  CoalescedRDD[76] at coalesce at NativeMethodAccessorImpl.java:0 []\n",
      " |  ShuffledRDD[75] at coalesce at NativeMethodAccessorImpl.java:0 []\n",
      " +-(5) MapPartitionsRDD[74] at coalesce at NativeMethodAccessorImpl.java:0 []\n",
      "    |  PythonRDD[73] at RDD at PythonRDD.scala:48 []\n",
      "    |  MapPartitionsRDD[70] at mapPartitions at PythonRDD.scala:427 []\n",
      "    |  ShuffledRDD[69] at partitionBy at NativeMethodAccessorImpl.java:0 []\n",
      "    +-(5) PairwiseRDD[68] at sortByKey at <ipython-input-74-6f0a229ec686>:1 []\n",
      "       |  PythonRDD[67] at sortByKey at <ipython-input-74-6f0a229ec686>:1 []\n",
      "       |  MapPartitionsRDD[64] at mapPartitions at PythonRDD.scala:427 []\n",
      "       |  ShuffledRDD[63] at partitionBy at NativeMethodAccessorImpl.java:0 []\n",
      "       +-(5) PairwiseRDD[62] at reduceByKey at <ipython-input-74-6f0a229ec686>:1 []\n",
      "          |  PythonRDD[61] at reduceByKey at <ipython-input-74-6f0a229ec686>:1 []\n",
      "          |  ParallelCollectionRDD[22] at parallelize at PythonRDD.scala:480 []\n",
      "False\n",
      "True\n",
      "file:/Users/dwoodbridge/Class/2017_MSAN697/Spark_Example/Day1/checkpoint/a375acb4-5f23-49f4-be44-56c2985c6815/rdd-77\n"
     ]
    }
   ],
   "source": [
    "print repartition.toDebugString()\n",
    "\n",
    "sc.setCheckpointDir(\"checkpoint\")\n",
    "repartition.checkpoint() # all references to its parent RDDs will be removed.\n",
    "print repartition.isCheckpointed() # not checkpointed until action()\n",
    "\n",
    "repartition.count()\n",
    "print repartition.isCheckpointed()\n",
    "print repartition.getCheckpointFile()"
   ]
  },
  {
   "cell_type": "code",
   "execution_count": 84,
   "metadata": {
    "collapsed": false
   },
   "outputs": [
    {
     "name": "stdout",
     "output_type": "stream",
     "text": [
      "(3) MapPartitionsRDD[77] at coalesce at NativeMethodAccessorImpl.java:0 []\n",
      " |  ReliableCheckpointRDD[80] at count at <ipython-input-82-caee0cbe841a>:8 []\n"
     ]
    }
   ],
   "source": [
    "print repartition.toDebugString()"
   ]
  },
  {
   "cell_type": "code",
   "execution_count": null,
   "metadata": {
    "collapsed": true
   },
   "outputs": [],
   "source": []
  }
 ],
 "metadata": {
  "anaconda-cloud": {},
  "kernelspec": {
   "display_name": "Python [Root]",
   "language": "python",
   "name": "Python [Root]"
  },
  "language_info": {
   "codemirror_mode": {
    "name": "ipython",
    "version": 2
   },
   "file_extension": ".py",
   "mimetype": "text/x-python",
   "name": "python",
   "nbconvert_exporter": "python",
   "pygments_lexer": "ipython2",
   "version": "2.7.12"
  }
 },
 "nbformat": 4,
 "nbformat_minor": 2
}
