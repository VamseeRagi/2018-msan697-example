{
 "cells": [
  {
   "cell_type": "code",
   "execution_count": 1,
   "metadata": {
    "collapsed": true
   },
   "outputs": [],
   "source": [
    "from pyspark import SparkContext\n",
    "sc = SparkContext.getOrCreate()"
   ]
  },
  {
   "cell_type": "code",
   "execution_count": 2,
   "metadata": {
    "collapsed": true
   },
   "outputs": [],
   "source": [
    "status = sc.textFile('../Data/bike_share/status.csv') #station_id, name, lat, lon, total_num_dock, city, station_installed_date"
   ]
  },
  {
   "cell_type": "code",
   "execution_count": 3,
   "metadata": {
    "collapsed": false
   },
   "outputs": [],
   "source": [
    "status = status.map(lambda x : x.split(\",\")).map(lambda x : (x[0],x))#.partitionBy(10)"
   ]
  },
  {
   "cell_type": "code",
   "execution_count": 6,
   "metadata": {
    "collapsed": true
   },
   "outputs": [],
   "source": [
    "count_1 = sc.accumulator(0) #incremented within transformation\n",
    "count_2 = sc.accumulator(0) #incremented within action"
   ]
  },
  {
   "cell_type": "code",
   "execution_count": 7,
   "metadata": {
    "collapsed": false
   },
   "outputs": [
    {
     "name": "stdout",
     "output_type": "stream",
     "text": [
      "36647622\n",
      "1047246\n",
      "36647622\n",
      "124.203417063\n"
     ]
    }
   ],
   "source": [
    "from time import time\n",
    "start = time()\n",
    "def filter_station(x):\n",
    "    if (x[1][0]== '10'):\n",
    "        count_1.add(1)    \n",
    "        return x\n",
    "\n",
    "filtered_station_status = status.map(filter_station)\n",
    "filtered_station_status.foreach(lambda x: count_2.add(1))\n",
    "\n",
    "print filtered_station_status.count()\n",
    "print count_1.value\n",
    "print count_2.value\n",
    "print time() - start"
   ]
  },
  {
   "cell_type": "code",
   "execution_count": 4,
   "metadata": {
    "collapsed": false
   },
   "outputs": [
    {
     "data": {
      "text/plain": [
       "[(u'10', [u'10', u'7', u'8', u'\"2014-12-30 15:37:02\"'])]"
      ]
     },
     "execution_count": 4,
     "metadata": {},
     "output_type": "execute_result"
    }
   ],
   "source": [
    "status.take(1)"
   ]
  },
  {
   "cell_type": "code",
   "execution_count": null,
   "metadata": {
    "collapsed": true
   },
   "outputs": [],
   "source": []
  }
 ],
 "metadata": {
  "anaconda-cloud": {},
  "kernelspec": {
   "display_name": "Python [Root]",
   "language": "python",
   "name": "Python [Root]"
  },
  "language_info": {
   "codemirror_mode": {
    "name": "ipython",
    "version": 2
   },
   "file_extension": ".py",
   "mimetype": "text/x-python",
   "name": "python",
   "nbconvert_exporter": "python",
   "pygments_lexer": "ipython2",
   "version": "2.7.12"
  }
 },
 "nbformat": 4,
 "nbformat_minor": 2
}
